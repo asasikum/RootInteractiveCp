{
 "cells": [
  {
   "cell_type": "markdown",
   "metadata": {},
   "source": [
    "## <h1>00. Introduction and Setup</h1>\n",
    "## Tutorial Overview "
   ]
  },
  {
   "cell_type": "markdown",
   "metadata": {},
   "source": [
    "Currently runing examples:\n",
    "1. An example to draw ROOT:TTree using bokeh: [bokehTreeDraw](bokehDraw/bokehTreeDraw.ipynb)\n",
    "2. Examples to draw histograms:\n",
    "    - [bokehHistoDraw](bokehDraw/THnInteractive.ipynb)\n",
    "    - [bokehHistoDraw(R_Phi_Z_pT)](bokehDraw/THnVisualization.ipynb)\n",
    "3. Stand alone applications:\n",
    "    - [from randomly generated example data](bokehDraw/standAlone.ipynb)\n",
    "    - [from a ROOT:TTree](bokehDraw/bokehTreeDrawSA.ipynb)\n",
    "4. [Regresssion Forest](MLpipeline/plotRegressionForestError.ipynb)\n",
    "5. [Quantile Regression forest](QuantileRegression/QuantilRegressionForest.ipynb)\n",
    "6. [Distortion Map](distortionCase/pandaTools/distortionDraw.ipynb)\n",
    "\n",
    "Examples which are not working right now:\n",
    "1. [Distortion Check](QuantileRegression/distortionCase/distortionCheck0.ipynb)\n",
    "2. [TTreeHnInteractive](TTreeHnInteractive/TTreeHNInteractiveV4.ipynb)\n"
   ]
  },
  {
   "cell_type": "code",
   "execution_count": null,
   "metadata": {},
   "outputs": [],
   "source": []
  }
 ],
 "metadata": {
  "kernelspec": {
   "display_name": "Python 3",
   "language": "python",
   "name": "python3"
  },
  "language_info": {
   "codemirror_mode": {
    "name": "ipython",
    "version": 3
   },
   "file_extension": ".py",
   "mimetype": "text/x-python",
   "name": "python",
   "nbconvert_exporter": "python",
   "pygments_lexer": "ipython3",
   "version": "3.6.8"
  }
 },
 "nbformat": 4,
 "nbformat_minor": 2
}

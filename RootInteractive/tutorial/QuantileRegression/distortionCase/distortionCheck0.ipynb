{
 "cells": [
  {
   "cell_type": "markdown",
   "metadata": {},
   "source": [
    "# Distortion summary - Demo of the NDimensional interactive visualization and ML regression\n",
    "  (Bokeh+ipywidgets based)\n",
    "  \n",
    "\n",
    "* 0) Import libraries\n",
    "* 1) Load csv file with distortion and split them per sector to enable correlation\n",
    "* 2) Draw distortion as function of other distortions\n",
    "* 3) Draw Distortion as function of the TRD flux\n",
    "* 4)Load fitter and fit distortion in regions as function of other distortions\n",
    "  * fit mean and median properties + model \"error\" estimates  -from bootstrapping\n",
    "  * quantiles tp probe PDF - not yet in the demo\n",
    "  *  inspect fit results  - corealtion and time series - local  data,data- fit, pulls (data-fit)/error\n",
    "  \n",
    "## For time series distortion,fit - see the end of the notebook\n",
    " * distortion vs time\n",
    " * distortion-fit vs time\n",
    " * (distortion-fit)/\"predicted\" error vs time"
   ]
  },
  {
   "cell_type": "markdown",
   "metadata": {},
   "source": [
    "# 0) Import libraries\n",
    "* MLpipeline.NDFunctionInterface\n",
    "  * wrapper on top of Keras and sklearn algorithms for the moment (RandomForest, KNN)\n",
    "  * main purpose  - provide error estimates+ combined estimators (e.g weighted mean)\n",
    "  * simulatianous regression and comaprison\n",
    "* TTreeHnInteractive.bokehTools \n",
    "  * interactive visualization of multidimensional data\n",
    "  * graphics using pandas+Bokeh\n",
    "  * interface like in our old TTree based interace  - but interactive"
   ]
  },
  {
   "cell_type": "code",
   "execution_count": null,
   "metadata": {},
   "outputs": [],
   "source": [
    "from RootInteractive.tutorial.distortionCase.distortionStudy import *\n",
    "from RootInteractive.TTreeHnInteractive.TTreeHnBrowser import *\n",
    "from RootInteractive.InteractiveDrawing.bokeh.bokehTools import *\n",
    "import matplotlib.pyplot as plt\n",
    "from RootInteractive.MLpipeline.NDFunctionInterface import  DataContainer, Fitter\n",
    "#from RootInteractive.InteractiveDrawing.bokeh.bokehDrawPanda import *\n",
    "from RootInteractive.InteractiveDrawing.bokeh.bokehDraw import *\n",
    "output_notebook()\n",
    "p3 = figure(plot_width=400, plot_height=250, title=\"template\")"
   ]
  },
  {
   "cell_type": "markdown",
   "metadata": {},
   "source": [
    "# 1) Load csv file with distortion and split them per sector to enable correlation\n",
    "* csv file extracted before for combiend root trees\n",
    "  * one liner ''''AliTreePlayer::selectWhatWhereOrderBy(tree,vars,selection,\"\",0,10000,\"csvroot\",\"data.csv\");''''\n",
    "* additional derived varaible defined similar as formula \"aliases\" in  tree"
   ]
  },
  {
   "cell_type": "code",
   "execution_count": null,
   "metadata": {},
   "outputs": [],
   "source": [
    "#AliTreePlayer::selectWhatWhereOrderBy(tree,vars,selection,\"\",0,10000,\"csvroot\",\"distortionAll.csv\");\n",
    "input=os.path.expandvars(\"$NOTESData/JIRA/ATO-336/DistortionsTimeSeries/distortionAll.csv\")\n",
    "df=readDataFrame(input)\n",
    "dfsplit=splitDistortionFrame(df)\n",
    "print(\"load csv file\", input, df.shape, dfsplit.shape)\n",
    "dfsplit=dfsplit.query(\"iz2x>2 & meanTRDCurrent<0.3  & abs(invTRDCurrentNorm)<0.05 & gascompH2O>0\")\n",
    "dfsplit=SetAlias(dfsplit,\"H2O\",\"gascompH2O/100.\")\n",
    "dfsplit['date']=pd.to_datetime(dfsplit['time'], unit='s')\n",
    "tooltips=[('Gas  composition (Ar,CO2, H2O)','(@gascompAr, @gascompCO2, @gascompH2O)'), ('current','@meanTRDCurrent'), ('Delta current','@deltaTRDCurrentNorm %'), ('date','@date')]\n",
    "dfsplit.head(3)\n",
    "#list(dfsplit)"
   ]
  },
  {
   "cell_type": "markdown",
   "metadata": {},
   "source": [
    "## 2) Inspect distortion  as function of mean distortion\n",
    "* interactive wrapper using ipywidgets and Bokeh (similar as  in old root + but with  interacativity)\n",
    "* distortion in sector 2,4,6,9,16,20,30 as function of mean distortion (40 minutes sampling)\n",
    "* secondary parameters could be controlled by user defined sliders"
   ]
  },
  {
   "cell_type": "code",
   "execution_count": null,
   "metadata": {},
   "outputs": [],
   "source": [
    "bokehDrawPanda?"
   ]
  },
  {
   "cell_type": "code",
   "execution_count": null,
   "metadata": {},
   "outputs": [],
   "source": [
    "vars=\"drphiSector2:drphiSector4:drphiSector6:drphiSector7:drphiSector9:drphiSector16:drphiSector20:drphiSector30\"\n",
    "sliders=\"slider.meanTRDCurrent(0,0.5,0.05,0,1):slider.H2O(0,5,0.2,0,5):slider.deltaTRDCurrentNorm(0.0,10.,0.1,0,10)\"\n",
    "plot2=bokehDraw(dfsplit.sample(200),\"time>0\",\"drphiMean\",vars,\"H2O\",sliders,p3,ncols=3, commonX=1, commonY=1,tooltip=tooltips,size=5)"
   ]
  },
  {
   "cell_type": "markdown",
   "metadata": {},
   "source": [
    "# 3) Inspect distortion as function of the TRD flux (2015-2016 data)\n",
    "* demonstation of interactive graphics using Bokeh+ipywidgets \n",
    "* distortion increasing with flux (TRD current estimators)\n",
    "  * backround characterization - estimated using the radial profile of TRD currents - not exaplaing data\n",
    "  * differnt bands vissible - hypothesies  -gas mixture?"
   ]
  },
  {
   "cell_type": "code",
   "execution_count": null,
   "metadata": {},
   "outputs": [],
   "source": [
    "vars=\"drphiSector2:drphiSector4:drphiSector6:drphiSector7:drphiSector9:drphiSector16:drphiSector20:drphiSector30\"\n",
    "sliders=\"slider.meanTRDCurrent(0,0.5,0.05,0,1):slider.H2O(0,5,0.2,0,5):slider.deltaTRDCurrentNorm(0.0,10.,0.1,0,10)\"\n",
    "plot2=bokehDraw(dfsplit.sample(200),\"time>0\",\"meanTRDCurrent\",vars,\"H2O\",sliders,p3,ncols=3, commonX=1,tooltip=tooltips,size=5)"
   ]
  },
  {
   "cell_type": "markdown",
   "metadata": {},
   "source": [
    "# 4)  Load fitter and fit distortion as function of other distortions\n",
    "* prepare data\n",
    "* register regression method (to be done by expert as in our TMVA interface)\n",
    "* evaluate and register regression "
   ]
  },
  {
   "cell_type": "code",
   "execution_count": null,
   "metadata": {},
   "outputs": [],
   "source": [
    "varFit='drphiSector2'\n",
    "variableX= ['drphiMean',\"H2O\", \"iz2x\",'bz',\"deltaTRDCurrentNorm\"]\n",
    "dataContainer = DataContainer(dfsplit, variableX, varFit, [500,500])\n",
    "fitter = Fitter(dataContainer)\n",
    "\n",
    "#fitter.Register_Method('KM200','KerasModel', 'Regressor', layout = [200, 10, 10],  epochs=100, dropout=0.1, l1=0.1)\n",
    "fitter.Register_Method('KNN','KNeighbors', 'Regressor')\n",
    "fitter.Register_Method('RF','RandomForest', 'Regressor', n_estimators=100, max_depth=10)\n",
    "fitter.Register_Method('RF200','RandomForest', 'Regressor', n_estimators=200, max_depth=10)\n",
    "fitter.Register_Method('KM','KerasModel', 'Regressor', layout = [50, 50, 50], epochs=300, dropout=0.4)\n",
    "fitter.Fit()\n",
    "test=dataContainer.Test_sample\n",
    "#fitter.Compress('KM')\n",
    "for method in ['RF', 'KNN', 'RF200', 'KM']: \n",
    "    test = fitter.AppendOtherPandas(method,test)"
   ]
  },
  {
   "cell_type": "code",
   "execution_count": null,
   "metadata": {},
   "outputs": [],
   "source": [
    "fitter.printImportance()"
   ]
  },
  {
   "cell_type": "markdown",
   "metadata": {},
   "source": [
    "## 4.1)  Bokeh visualization of regression results"
   ]
  },
  {
   "cell_type": "code",
   "execution_count": null,
   "metadata": {},
   "outputs": [],
   "source": [
    "p3 = figure(plot_width=400, plot_height=250, title=\"drphiSector\")\n",
    "plot,data,dummy=drawColzArray(test,\" abs (invTRDCurrentNorm)<0.05&year<2017\", varFit,\"RF:RF200:KNN:KM\",\"H2O\",p3,ncols=2,tooltip=tooltips,size=5)\n",
    "show(plot)\n",
    "plot,data,dummy=drawColzArray(test,\" abs (invTRDCurrentNorm)<0.05&year<2017\", \"RF\",\"RF:RF200:KNN:KM\",\"H2O\",p3,ncols=2,tooltip=tooltips,size=5)\n",
    "show(plot)"
   ]
  },
  {
   "cell_type": "code",
   "execution_count": null,
   "metadata": {},
   "outputs": [],
   "source": [
    "fitter.AppendStatPandas(\"RF\",test)\n",
    "fitter.AppendStatPandas(\"RF200\",test)\n",
    "test=SetAlias(test,\"pullRF_2\",\"(drphiSector2-RFMedian)/RFRMS\")\n",
    "test=SetAlias(test,\"pullRF200_2\",\"(drphiSector2-RF200Median)/RF200RMS\")\n",
    "plot,data,dummy=drawColzArray(test,\"abs(invTRDCurrentNorm)<0.05&year<2017\", \"RF\",\"RFMedian\",\"H2O\",p3,ncols=3)\n",
    "show(plot)\n",
    "test['pullRF_2'].plot.hist()"
   ]
  },
  {
   "cell_type": "markdown",
   "metadata": {},
   "source": [
    "# TRD curent model\n",
    "* make regression of the dostortion\n",
    "  * flux (TRD current estimator)\n",
    "  * background estimators\n",
    "  * gas compostion\n",
    "* export  fit errors  "
   ]
  },
  {
   "cell_type": "code",
   "execution_count": null,
   "metadata": {},
   "outputs": [],
   "source": [
    "#variableX= ['meanTRDCurrent','deltaTRDCurrent','bz','bckg0Mean', 'bckg1Mean', 'bckg2Mean',\"gascompH2O\"]\n",
    "variableX= ['meanTRDCurrent','deltaTRDCurrentNorm','bz',\"H2O\",\"iz2x\", \"bsign\",\"gascompCO2\"]\n",
    "#variableX= ['meanTRDCurrent','deltaTRDCurrentNorm','bz',\"iz2x\", \"bsign\"]\n",
    "x = DataContainer(dfsplit, variableX, ['drphiSector4'], [500,500])\n",
    "fitter = Fitter(x)\n",
    "fitter.Register_Method('KNN','KNeighbors', 'Regressor')\n",
    "fitter.Register_Method('RF','RandomForest', 'Regressor', n_estimators=100, max_depth=10)\n",
    "fitter.Register_Method('RF200','RandomForest', 'Regressor', n_estimators=200, max_depth=10)\n",
    "#list(variableX)\n",
    "fitter.Fit()\n",
    "for method in ['RF', 'KNN', 'RF200']: \n",
    "    dfsplit = fitter.AppendOtherPandas(method,dfsplit)\n",
    "fitter.printImportance()    "
   ]
  },
  {
   "cell_type": "code",
   "execution_count": null,
   "metadata": {},
   "outputs": [],
   "source": [
    "fitter.AppendStatPandas(\"RF\",dfsplit)\n",
    "fitter.AppendStatPandas(\"RF200\",dfsplit)\n",
    "dfsplit=SetAlias(dfsplit,\"pullRF\",\"(drphiSector2-RFMedian)/RFRMS\")\n",
    "dfsplit=SetAlias(dfsplit,\"deltaRF\",\"(drphiSector2-RFMedian)\")\n",
    "p = figure(plot_width=500, plot_height=300, title=\"drphiSector2\")\n",
    "plot,data,dummy=drawColzArray(dfsplit.sample(300),\" trdMeanMedianL0<1 & abs (invTRDCurrentNorm)<0.05&year<2017\", \"meanTRDCurrent\",\"drphiSector4:RF200\",\"H2O\",p,commonX=1,commonY=1,size=5,\n",
    "                  tooltip=tooltips)\n",
    "show(plot)"
   ]
  },
  {
   "cell_type": "markdown",
   "metadata": {},
   "source": [
    "## Time series distortion,fit\n",
    " * distortion vs time\n",
    " * distortion-fit vs time\n",
    " * (distortion-fit)/\"predicted\" error vs time"
   ]
  },
  {
   "cell_type": "code",
   "execution_count": null,
   "metadata": {},
   "outputs": [],
   "source": [
    "ptime = figure(plot_width=1000, plot_height=150, title=\"template\")\n",
    "sliders=\"slider.meanTRDCurrent(0,0.3,0.03,0,1):slider.H2O(0,5,0.2,0,5):slider.deltaTRDCurrentNorm(-0.0,0.1,0.01,-0.2,0.2)\"\n",
    "plot0=bokehDraw(dfsplit,\"trdMeanMedianL0<1 & abs (invTRDCurrentNorm)<0.2&year<2017& iz2x==4\",\"date\",\"meanTRDCurrent:drphiSector4:deltaRF:pullRF:H2O:gascompCO2\",\"H2O\",sliders,ptime,ncols=1, commonX=1,size=5,\n",
    "                  tooltip=tooltips,x_axis_type='datetime')\n"
   ]
  },
  {
   "cell_type": "code",
   "execution_count": null,
   "metadata": {},
   "outputs": [],
   "source": [
    "dfsplit['date']"
   ]
  },
  {
   "cell_type": "code",
   "execution_count": null,
   "metadata": {},
   "outputs": [],
   "source": []
  }
 ],
 "metadata": {
  "kernelspec": {
   "display_name": "Python 2",
   "language": "python",
   "name": "python2"
  },
  "language_info": {
   "codemirror_mode": {
    "name": "ipython",
    "version": 3
   },
   "file_extension": ".py",
   "mimetype": "text/x-python",
   "name": "python",
   "nbconvert_exporter": "python",
   "pygments_lexer": "ipython3",
   "version": "3.6.8"
  }
 },
 "nbformat": 4,
 "nbformat_minor": 2
}

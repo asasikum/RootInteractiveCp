{
 "cells": [
  {
   "cell_type": "markdown",
   "metadata": {},
   "source": [
    "# NDRegreesionDemo + Error of regression\n",
    "Example usage of the ML interface/warppers to Random Forets, KNN and Keras\n",
    "Goal MLpipeline.NDFunctionInterface:\n",
    "* Using registered predefined method as a standard regression function\n",
    "* Provide functionaltiy to calculate error estimators \n",
    "\n",
    "In this example we would like to demonstrate that regression error for fuction of interes are not constant\n",
    "We choose pariodic function for regresion - to emulate TPC sector structure and radial dependent occupancy ...\n",
    "```\n",
    "f(A,B,C,D) = A+exp(3B)+sin(6.28C)\n",
    "```\n",
    "\n",
    "### **!!! NDFunctionInterface classes are  experimental. !!!**\n",
    "* Implementation and interce wil change  - to be \"pythonic\"\n",
    "* better integration with visulization \n",
    "* integration with trees"
   ]
  },
  {
   "cell_type": "code",
   "execution_count": null,
   "metadata": {},
   "outputs": [],
   "source": [
    "import ROOT\n",
    "import pandas as pd\n",
    "import numpy as np\n",
    "from root_pandas import *\n",
    "from RootInteractive.InteractiveDrawing.bokeh.bokehDrawSA import *\n",
    "from RootInteractive.MLpipeline.NDFunctionInterface import  DataContainer, Fitter\n",
    "from bokeh.io import output_notebook\n",
    "output_notebook()"
   ]
  },
  {
   "cell_type": "markdown",
   "metadata": {},
   "source": [
    "# Generate random panda+tree\n",
    "* generate random vectors A,B,C,D\n",
    "* generate function value = A+exp(3*B)+sin(6.28*C)\n",
    "* generate noise vector"
   ]
  },
  {
   "cell_type": "code",
   "execution_count": null,
   "metadata": {},
   "outputs": [],
   "source": [
    "npoints=10000\n",
    "df = pd.DataFrame(np.random.random_sample(size=(npoints, 4)), columns=list('ABCD'))\n",
    "df[\"noise\"]=np.random.normal(0, 0.1, npoints)\n",
    "df[\"csin\"]=np.sin(6.28*df[\"C\"])\n",
    "df[\"valueOrig\"]=df[\"A\"]+np.exp(3*df[\"B\"])*df[\"csin\"]\n",
    "df[\"value\"]=df[\"valueOrig\"]+df[\"noise\"]\n",
    "df.to_root('ABCD.root',\"ABCD\")\n",
    "f= ROOT.TFile(\"ABCD.root\")\n",
    "tree=f.Get(\"ABCD\")\n",
    "#tree.Show(0)"
   ]
  },
  {
   "cell_type": "markdown",
   "metadata": {},
   "source": [
    "# Interactive visualization of input function\n",
    "* function value = A+exp(3B)+sin(6.28C) as function of A, B, C and csin"
   ]
  },
  {
   "cell_type": "code",
   "execution_count": null,
   "metadata": {},
   "outputs": [],
   "source": [
    "tooltips=[(\"A\",\"@A\"), (\"B\",\"@B\"), (\"C\",\"@C\")]\n",
    "figureArray= [\n",
    "    [['A'], ['valueOrig'], {\"size\": 2, \"colorZvar\":\"csin\"}],\n",
    "    [['B'], ['valueOrig'], {\"size\": 2, \"colorZvar\":\"csin\"}],\n",
    "    ['table']\n",
    "]\n",
    "widgets=\"query.custom(), slider.A(0,1,0.1,0,1), slider.B(0,1,0.1,0,1), slider.C(0,1,0.1,0,1), slider.csin(-1,1,0.1,-1,1)\"\n",
    "figureLayout: str = '((0,1),(2, plot_height=150),commonY=1, x_visible=1,y_visible=0,plot_height=300,plot_width=1200)'\n",
    "fig=bokehDrawSA.fromArray(df, \"A>0\", figureArray,widgets,tooltips=tooltips, layout=figureLayout)    "
   ]
  },
  {
   "cell_type": "markdown",
   "metadata": {},
   "source": [
    "## Make fits\n",
    "* Register fitters and make a fit\n",
    "* Regirtartion of fitters will be more pythonic soon"
   ]
  },
  {
   "cell_type": "code",
   "execution_count": null,
   "metadata": {},
   "outputs": [],
   "source": [
    "varFit='value'\n",
    "variableX= ['A',\"B\", \"C\",'D']\n",
    "dataContainer = DataContainer(df, variableX, varFit, [npoints//2,npoints//2])\n",
    "fitter = Fitter(dataContainer)\n",
    "\n",
    "fitter.Register_Method('KNN','KNeighbors', 'Regressor')\n",
    "fitter.Register_Method('RF','RandomForest', 'Regressor', n_estimators=100, max_depth=10)\n",
    "fitter.Register_Method('RF200','RandomForest', 'Regressor', n_estimators=200, max_depth=10)\n",
    "fitter.Register_Method('KM','KerasModel', 'Regressor', layout = [50, 50, 50], epochs=100, dropout=0.2)\n",
    "fitter.Fit()\n",
    "test=dataContainer.Test_sample"
   ]
  },
  {
   "cell_type": "markdown",
   "metadata": {},
   "source": [
    "# Register outputs"
   ]
  },
  {
   "cell_type": "code",
   "execution_count": null,
   "metadata": {},
   "outputs": [],
   "source": [
    "#fitter.Compress('KM')\n",
    "for method in ['RF', 'KNN', 'RF200', 'KM']: \n",
    "    test = fitter.AppendOtherPandas(method,test)\n",
    "fitter.AppendStatPandas(\"RF\",test)\n",
    "fitter.AppendStatPandas(\"RF200\",test)\n",
    "test=SetAlias(test,\"pullRF\",\"(RF-value)/RFRMS\")"
   ]
  },
  {
   "cell_type": "markdown",
   "metadata": {},
   "source": [
    "## Visualize residuals as function of tru value\n",
    "* compariing different regression methods"
   ]
  },
  {
   "cell_type": "code",
   "execution_count": null,
   "metadata": {},
   "outputs": [],
   "source": [
    "figureArray= [\n",
    "    [['valueOrig'], ['RF-valueOrig'],  {\"size\": 2, \"colorZvar\":\"B\"}],\n",
    "    [['valueOrig'], ['KM-valueOrig'],  {\"size\": 2, \"colorZvar\":\"B\"}],\n",
    "    [['valueOrig'], ['KNN-valueOrig'], {\"size\": 2, \"colorZvar\":\"B\"}],\n",
    "    [['valueOrig'], ['KM-valueOrig'],  {\"size\": 2, \"colorZvar\":\"B\"}],\n",
    "    ['table']\n",
    "]\n",
    "widgets=\"query.custom(), slider.A(0,1,0.1,0,1), slider.B(0,1,0.1,0,1), slider.sinC(0,1,0.1,0,1)\"\n",
    "figureLayout: str = '((0,1),(2,3),(4, plot_height=100),commonY=1, commonX=0, x_visible=1,y_visible=0,plot_height=250,plot_width=1200)'\n",
    "output_file(\"NDFunctionInterace_0.html\")   \n",
    "fig=bokehDrawSA.fromArray(test, \"A>0\", figureArray,widgets,tooltips=tooltips, layout=figureLayout)  "
   ]
  },
  {
   "cell_type": "markdown",
   "metadata": {},
   "source": [
    "# Visualize residuals and correlation of residuals"
   ]
  },
  {
   "cell_type": "code",
   "execution_count": null,
   "metadata": {},
   "outputs": [],
   "source": [
    "tooltips=[(\"A\",\"@A\"), (\"B\",\"@B\"), (\"C\",\"@C\")]\n",
    "figureArray= [\n",
    "    [['csin'], ['RF-valueOrig'], {\"size\": 2, \"colorZvar\":\"B\"}],\n",
    "    [['csin'], ['RFMedian-valueOrig'], {\"size\": 2, \"colorZvar\":\"B\"}],\n",
    "    [['csin'], ['KM-valueOrig'], {\"size\": 2, \"colorZvar\":\"B\"}],\n",
    "    [['csin'], ['KNN-valueOrig'], {\"size\": 2, \"colorZvar\":\"B\"}],\n",
    "    [['RF-valueOrig'], ['KNN-valueOrig'], {\"size\": 2, \"colorZvar\":\"B\"}],\n",
    "    [['RF-valueOrig'], ['KM-valueOrig'], {\"size\": 2, \"colorZvar\":\"B\"}],\n",
    "    ['table']\n",
    "]\n",
    "widgets=\"query.custom(), slider.A(0,1,0.1,0,1), slider.B(0,1,0.1,0,1), slider.C(0,1,0.1,0,1)\"\n",
    "figureLayout: str = '((0,1,2,3),(4,5, commonX=4),(6, plot_height=150),commonY=1, commonX=0, x_visible=1,y_visible=0,plot_height=250,plot_width=1400)'\n",
    "output_file(\"NDFunctionInterace_1.html\")\n",
    "fig=bokehDrawSA.fromArray(test, \"A>0\", figureArray,widgets,tooltips=tooltips, layout=figureLayout)  "
   ]
  },
  {
   "cell_type": "code",
   "execution_count": null,
   "metadata": {},
   "outputs": [],
   "source": [
    "# Visualize normalized residuals and correlation of residuals"
   ]
  },
  {
   "cell_type": "code",
   "execution_count": null,
   "metadata": {},
   "outputs": [],
   "source": [
    "tooltips=[(\"A\",\"@A\"), (\"B\",\"@B\"), (\"C\",\"@C\")]\n",
    "figureArray= [\n",
    "    [['csin'], ['(RF-valueOrig)/RFRMS'], {\"color\": \"red\", \"size\": 2, \"colorZvar\":\"B\"}],\n",
    "    [['csin'], ['(KM-valueOrig)/RFRMS'], {\"color\": \"red\", \"size\": 2, \"colorZvar\":\"B\"}],\n",
    "    [['csin'], ['(KNN-valueOrig)/RFRMS'], {\"color\": \"red\", \"size\": 2, \"colorZvar\":\"B\"}],\n",
    "    [['RF-valueOrig'], ['KNN-valueOrig'], {\"color\": \"red\", \"size\": 2, \"colorZvar\":\"B\"}],\n",
    "    [['RF-valueOrig'], ['KM-valueOrig'], {\"color\": \"red\", \"size\": 2, \"colorZvar\":\"B\"}],\n",
    "    ['table']\n",
    "]\n",
    "widgets=\"query.custom(), slider.A(0,1,0.1,0,1), slider.B(0,1,0.1,0,1), slider.C(0,1,0.1,0,1), slider.pullRF(-6,6,0.1,-6,6), slider.csin(-1,1,0.1,-1,1)\"\n",
    "figureLayout: str = '((0,1,2),(3,4, commonX=4),(5, plot_height=150),commonY=1, commonX=0, x_visible=1,y_visible=0,plot_height=250,plot_width=1400)'\n",
    "output_file(\"NDFunctionInterace_2.html\")\n",
    "fig=bokehDrawSA.fromArray(test, \"A>0\", figureArray,widgets,tooltips=tooltips, layout=figureLayout) "
   ]
  },
  {
   "cell_type": "code",
   "execution_count": null,
   "metadata": {},
   "outputs": [],
   "source": [
    "test['pullRF'].plot.hist(bins=100)"
   ]
  },
  {
   "cell_type": "code",
   "execution_count": null,
   "metadata": {},
   "outputs": [],
   "source": [
    "test['RFRMS'].plot.hist(bins=100)"
   ]
  },
  {
   "cell_type": "code",
   "execution_count": null,
   "metadata": {},
   "outputs": [],
   "source": [
    "drawColzArray(test,\"A>0\",\"RF\", \"RFRMS\",\"csin\",None,doDraw=1,tooltips=tooltips)"
   ]
  }
 ],
 "metadata": {
  "kernelspec": {
   "display_name": "Python 3",
   "language": "python",
   "name": "python3"
  },
  "language_info": {
   "codemirror_mode": {
    "name": "ipython",
    "version": 3
   },
   "file_extension": ".py",
   "mimetype": "text/x-python",
   "name": "python",
   "nbconvert_exporter": "python",
   "pygments_lexer": "ipython3",
   "version": "3.6.8"
  }
 },
 "nbformat": 4,
 "nbformat_minor": 2
}

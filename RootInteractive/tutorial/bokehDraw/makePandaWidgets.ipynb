{
 "cells": [
  {
   "cell_type": "markdown",
   "metadata": {},
   "source": [
    "# Bokeh standalone dashborad example\n",
    "* 0. Create random input panda\n",
    "* 1. Describe multi figure dashboard\n",
    "* 2. Create dashboard - interactive array of figures + widgets"
   ]
  },
  {
   "cell_type": "code",
   "execution_count": null,
   "metadata": {},
   "outputs": [],
   "source": [
    "from RootInteractive.InteractiveDrawing.bokeh.bokehDrawSA import *\n",
    "from bokeh.models import *\n",
    "from bokeh.io import output_notebook\n",
    "#from bokeh.plotting import figure\n",
    "output_notebook()"
   ]
  },
  {
   "cell_type": "markdown",
   "metadata": {},
   "source": [
    "## 0. Create random input panda\n",
    "* Uniformly distributed varaibles A, B,C,D,E,F\n",
    "* categorical input data AA, BB, CC "
   ]
  },
  {
   "cell_type": "code",
   "execution_count": null,
   "metadata": {},
   "outputs": [],
   "source": [
    "df = pd.DataFrame(np.random.random_sample(size=(2000, 6)), columns=list('ABCDEF'))\n",
    "df[\"AA\"]=(df.A*10).round(0)/10.\n",
    "df[\"CC\"]=(df.C*5).round(0)\n",
    "df[\"DD\"]=(df.D*2).round(0)\n",
    "initMetadata(df)\n",
    "df.meta.metaData = {'A.AxisTitle': \"A (cm)\", 'B.AxisTitle': \"B (cm/s)\", 'C.AxisTitle': \"C (s)\", 'D.AxisTitle': \"D (a.u.)\"}\n",
    "df.head(3)"
   ]
  },
  {
   "cell_type": "markdown",
   "metadata": {},
   "source": [
    "## 1. Describe multi figure dashboard \n",
    "* figureArray - list of figures\n",
    "  *  [[varX ] [ varY], {figure options}]\n",
    "  *  TODO -add global option\n",
    "* figure layout - layout of figures\n",
    "  * layout = [raw0,row1 ..., options]\n",
    "  * rowi =[index0, .... row options] \n",
    "* widget array\n",
    "  * [[type], [var,params], {widget options}]\n",
    "    * different option to slect ranges - user definden, [min,max],[mean/median-n*sigma, mean/median+n*sigma]\n",
    "  * TODO  =add global options\n",
    "* widget layout\n",
    "  * layout = [raw0,row1 ..., options]\n",
    "  * rowi =[index0, .... row options] \n",
    "\n",
    "\n",
    "Options:\n",
    " * almost all bokeh drawing options\n",
    " * widgets controling images - modyfying data sources\n",
    " * derived options - sharing of axis between figures (commonX, commonY)\n",
    "  "
   ]
  },
  {
   "cell_type": "code",
   "execution_count": null,
   "metadata": {},
   "outputs": [],
   "source": [
    "figureArray = [\n",
    "    [['A'], ['C-A'], {\"color\": \"red\", \"colorZvar\":\"C\"}],\n",
    "    [['A'], ['C+A', 'C-A']],\n",
    "    [['B'], ['C+B', 'C-B'],{\"color\": \"red\", \"size\": 7, \"colorZvar\":\"C\"}],\n",
    "    [['D'], ['(A+B+C)*D'], {\"size\": 10}],\n",
    "    ['table', {'include':'.*A.*'}],\n",
    "    {\"size\":10}\n",
    "]\n",
    "figureLayout=[\n",
    "    [0,1,2, {'commonX':1,'y_visible':2,'plot_height':300}],\n",
    "    [3,{'plot_height':100}],\n",
    "    [4,{'plot_height':50}],\n",
    "    {'plot_height':100,'sizing_mode':'scale_width'}\n",
    "]\n",
    "widgetArray=[\n",
    "    ['range', ['A']],\n",
    "    ['range', ['B',0,1,0.1,0,1]], \n",
    "    ['range', ['C'], {'type':'minmax'}],\n",
    "    ['range', ['D'], {'type':'sigma', 'bins':10, 'sigma':3}],\n",
    "    ['range', ['E'], {'type':'sigmaMed', 'bins':10, 'sigma':3}],\n",
    "    ['slider', ['AA'],{'bins':10}],\n",
    "    ['multiSelect',[\"DD\"]],\n",
    "    ['select',[\"CC\",0,1,2,3]],\n",
    "    #['slider','F', ['@min()','@max()','@med','@min()','@median()+3*#tlm()']], # to be implmneted\n",
    "]\n",
    "widgetLayout=[ [0,1,2], [3,4,5], [6,7], {'sizing_mode':'scale_width'} ]\n",
    "tooltips = [(\"VarA\", \"(@A)\"), (\"VarB\", \"(@B)\"), (\"VarC\", \"(@C)\"), (\"VarD\", \"(@D)\")]   "
   ]
  },
  {
   "cell_type": "markdown",
   "metadata": {},
   "source": [
    "## 2. Create dashboard - interactive array of figures + widgets\n",
    "* create dashboard\n",
    "* save in standalon  html file  "
   ]
  },
  {
   "cell_type": "code",
   "execution_count": null,
   "metadata": {},
   "outputs": [],
   "source": [
    "output_file(\"makePandaWidgetsSA.html\")\n",
    "bokehDrawSA.fromArray(df, \"A>0\", figureArray, widgetArray, layout=figureLayout, tooltips=tooltips,widgetLayout=widgetLayout,sizing_mode=\"scale_width\")"
   ]
  }
 ],
 "metadata": {
  "kernelspec": {
   "display_name": "Python 3",
   "language": "python",
   "name": "python3"
  },
  "language_info": {
   "codemirror_mode": {
    "name": "ipython",
    "version": 3
   },
   "file_extension": ".py",
   "mimetype": "text/x-python",
   "name": "python",
   "nbconvert_exporter": "python",
   "pygments_lexer": "ipython3",
   "version": "3.6.8"
  }
 },
 "nbformat": 4,
 "nbformat_minor": 2
}

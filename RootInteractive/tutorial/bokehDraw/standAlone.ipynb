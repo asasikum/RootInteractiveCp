{
 "cells": [
  {
   "cell_type": "markdown",
   "metadata": {},
   "source": [
    "# Tutorial for Bokeh client visualization\n",
    "* it is aimed to be used for develoopers to test feature of bokeh interactive  - standalone plotting"
   ]
  },
  {
   "cell_type": "code",
   "execution_count": null,
   "metadata": {},
   "outputs": [],
   "source": [
    "from bokeh.io import output_notebook, show\n",
    "from bokeh.plotting import output_file\n",
    "from RootInteractive.InteractiveDrawing.bokeh.bokehDrawSA import bokehDrawSA\n",
    "from RootInteractive.InteractiveDrawing.bokeh.bokehTools import bokehDrawArray\n",
    "from RootInteractive.Tools.pandaTools import initMetadata\n",
    "import pandas as pd\n",
    "import numpy as np\n",
    "import math\n",
    "output_notebook()\n"
   ]
  },
  {
   "cell_type": "code",
   "execution_count": null,
   "metadata": {},
   "outputs": [],
   "source": [
    "from IPython.core.display import display, HTML\n",
    "display(HTML(\"<style>.container { width:100% !important; }</style>\"))"
   ]
  },
  {
   "cell_type": "markdown",
   "metadata": {},
   "source": [
    "- Create a random data source"
   ]
  },
  {
   "cell_type": "code",
   "execution_count": null,
   "metadata": {},
   "outputs": [],
   "source": [
    "#init test random data\n",
    "df = pd.DataFrame(np.random.random_sample(size=(1000, 6)), columns=list('ABCDEF'))\n",
    "initMetadata(df)\n",
    "mapDDC={0:\"A0\",1:\"A1\",2:\"A2\",3:\"A3\",4:\"A4\"}\n",
    "df[\"B\"]=np.linspace(0,1,1000)\n",
    "df.eval(\"Bool=A>0.5\", inplace=True)\n",
    "df.eval(\"BoolB=B>0.5\", inplace=True)\n",
    "df.eval(\"BoolC=C>0.1\", inplace=True)\n",
    "df[\"A\"]=df[\"A\"].round(3);\n",
    "df[\"B\"]=df[\"B\"].round(3);\n",
    "df[\"C\"]=df[\"C\"].round(3);\n",
    "df[\"D\"]=df[\"D\"].round(3);\n",
    "df[\"AA\"]=((df.A*10).round(0)).astype(pd.CategoricalDtype(ordered=True))\n",
    "df[\"CC\"]=((df.C*5).round(0)).astype(int)\n",
    "df[\"DD\"]=((df.D*4).round(0)).astype(int)\n",
    "df[\"DDC\"]=((df.D*4).round(0)).astype(int).map(mapDDC)\n",
    "df[\"EE\"]=(df.E*4).round(0)\n",
    "df['errY']=df.A*0.02+0.02;\n",
    "df.loc[\"A\", 15] = math.nan\n",
    "df.head(10)\n",
    "df.meta.metaData = {'A.AxisTitle': \"A (cm)\", 'B.AxisTitle': \"B (cm/s)\", 'C.AxisTitle': \"C (s)\", 'D.AxisTitle': \"D (a.u.)\", 'Bool.AxisTitle': \"A>half\", 'E.AxisTitle': \"Category\"}\n"
   ]
  },
  {
   "cell_type": "markdown",
   "metadata": {},
   "source": [
    "-Identify the layout"
   ]
  },
  {
   "cell_type": "code",
   "execution_count": null,
   "metadata": {
    "scrolled": true
   },
   "outputs": [],
   "source": [
    "figureArray = [\n",
    "#   ['A'], ['C-A'], {\"color\": \"red\", \"size\": 7, \"colorZvar\":\"C\", \"filter\": \"A<0.5\"}],\n",
    "    [['A'], ['A*A-C*C'], {\"color\": \"red\", \"size\": 2, \"colorZvar\": \"A\", \"varZ\": \"C\"}],\n",
    "    [['A'], ['C+A', 'C-A', 'A/A']],\n",
    "    [['B'], ['C+B', 'C-B'], { \"colorZvar\": \"D\", \"errY\": \"errY\", \"rescaleColorMapper\": True}],\n",
    "    [['D'], ['(A+B+C)*D'], {\"colorZvar\": \"D\", \"errY\": \"errY\"} ],\n",
    "    [['D'], ['D*10'], {\"errY\": \"errY\"}],\n",
    "    {\"size\":2, \"legend_options\": {\"label_text_font_size\": \"13px\"}}\n",
    "]\n",
    "layout = {\n",
    "    \"A\": [\n",
    "        [0, 1, 2, {'commonX': 1, 'y_visible': 1, 'x_visible':1, 'plot_height': 300}],\n",
    "        {'plot_height': 100, 'sizing_mode': 'scale_width', 'y_visible' : 2}\n",
    "        ],\n",
    "    \"B\": [\n",
    "        [3, 4, {'commonX': 1, 'y_visible': 3, 'x_visible':1, 'plot_height': 100}],\n",
    "        {'plot_height': 100, 'sizing_mode': 'scale_width', 'y_visible' : 2}\n",
    "        ]\n",
    "}\n",
    "tooltips = [(\"VarA\", \"(@A)\"), (\"VarB\", \"(@B)\"), (\"VarC\", \"(@C)\"), (\"VarD\", \"(@D)\")]\n",
    "pAll = bokehDrawArray(df, \"A>0\", figureArray, layout=layout, color=\"blue\", size=4, tooltips=tooltips)\n",
    "show(pAll[0])"
   ]
  },
  {
   "cell_type": "code",
   "execution_count": null,
   "metadata": {},
   "outputs": [],
   "source": [
    "logging.disable(1)"
   ]
  },
  {
   "cell_type": "markdown",
   "metadata": {},
   "source": [
    "-Draw the graphes"
   ]
  },
  {
   "cell_type": "code",
   "execution_count": null,
   "metadata": {},
   "outputs": [],
   "source": [
    "output_file(\"test2.html\")\n",
    "\n",
    "widgets=\"slider.A(0,100,0.5,10,90),slider.B(0,100,0.5,10,90),slider.C(0,100,0.5,10,90),slider.D(0,100,0.5,10,90)\"\n",
    "    \n",
    "figure=bokehDrawSA.fromArray(df,\"A>0\",figureArray, widgets, layout=figureLayout, color=\"blue\", size=4, tooltips=tooltips)"
   ]
  },
  {
   "cell_type": "code",
   "execution_count": null,
   "metadata": {},
   "outputs": [],
   "source": [
    "bokehDrawSA.initWidgets?\n"
   ]
  }
 ],
 "metadata": {
  "kernelspec": {
   "display_name": "Python 3 (ipykernel)",
   "language": "python",
   "name": "python3"
  },
  "language_info": {
   "codemirror_mode": {
    "name": "ipython",
    "version": 3
   },
   "file_extension": ".py",
   "mimetype": "text/x-python",
   "name": "python",
   "nbconvert_exporter": "python",
   "pygments_lexer": "ipython3",
   "version": "3.9.9"
  }
 },
 "nbformat": 4,
 "nbformat_minor": 2
}

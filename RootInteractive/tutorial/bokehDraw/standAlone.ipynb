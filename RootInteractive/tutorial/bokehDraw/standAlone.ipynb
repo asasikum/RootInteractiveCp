{
 "cells": [
  {
   "cell_type": "markdown",
   "metadata": {},
   "source": [
    "# Tutorial for Bokeh client visualization\n",
    "* import libraries\n",
    "* generate random data source ABCD uniform\n",
    "* simple case with no widgets\n",
    "* adding selection widgets\n",
    "* adding widgets for some visualization parameters"
   ]
  },
  {
   "cell_type": "code",
   "execution_count": null,
   "metadata": {},
   "outputs": [],
   "source": [
    "from bokeh.io import output_notebook, show\n",
    "from bokeh.plotting import output_file\n",
    "from RootInteractive.InteractiveDrawing.bokeh.bokehDrawSA import bokehDrawSA\n",
    "from RootInteractive.InteractiveDrawing.bokeh.bokehTools import bokehDrawArray\n",
    "from RootInteractive.Tools.pandaTools import initMetadata\n",
    "import pandas as pd\n",
    "import numpy as np\n",
    "import math\n",
    "import logging\n",
    "output_notebook()\n"
   ]
  },
  {
   "cell_type": "code",
   "execution_count": null,
   "metadata": {},
   "outputs": [],
   "source": [
    "from IPython.core.display import display, HTML\n",
    "display(HTML(\"<style>.container { width:100% !important; }</style>\"))"
   ]
  },
  {
   "cell_type": "markdown",
   "metadata": {},
   "source": [
    "- Create a random data source"
   ]
  },
  {
   "cell_type": "code",
   "execution_count": null,
   "metadata": {},
   "outputs": [],
   "source": [
    "#init test random data\n",
    "df = pd.DataFrame(np.random.random_sample(size=(2000, 6)), columns=list('ABCDEF'))\n",
    "initMetadata(df)\n",
    "mapDDC={0:\"A0\",1:\"A1\",2:\"A2\",3:\"A3\",4:\"A4\"}\n",
    "df[\"B\"]=np.linspace(0,1,2000)\n",
    "df.eval(\"Bool=A>0.5\", inplace=True)\n",
    "df.eval(\"BoolB=B>0.5\", inplace=True)\n",
    "df.eval(\"BoolC=C>0.1\", inplace=True)\n",
    "df[\"A\"]=df[\"A\"].round(3);\n",
    "df[\"B\"]=df[\"B\"].round(3);\n",
    "df[\"C\"]=df[\"C\"].round(3);\n",
    "df[\"D\"]=df[\"D\"].round(3);\n",
    "df[\"AA\"]=((df.A*10).round(0)).astype(pd.CategoricalDtype(ordered=True))\n",
    "df[\"CC\"]=((df.C*5).round(0)).astype(int)\n",
    "df[\"DD\"]=((df.D*4).round(0)).astype(int)\n",
    "df[\"DDC\"]=((df.D*4).round(0)).astype(int).map(mapDDC)\n",
    "df[\"EE\"]=(df.E*4).round(0)\n",
    "df['errY']=df.A*0.02+0.02;\n",
    "df.loc[15, \"A\"] = math.nan\n",
    "df.head(10)\n",
    "df.meta.metaData = {'A.AxisTitle': \"A (cm)\", 'B.AxisTitle': \"B (cm/s)\", 'C.AxisTitle': \"C (s)\", 'D.AxisTitle': \"D (a.u.)\", 'Bool.AxisTitle': \"A>half\", 'E.AxisTitle': \"Category\"}\n"
   ]
  },
  {
   "cell_type": "markdown",
   "metadata": {},
   "source": [
    "* Define the figure array\n",
    "    * One array for each figure\n",
    "        * [['x-axis variable'], ['one or more y-axis variables'], {figure options}]\n",
    "        * {figure options} (can be defined for each figure separately or globally)\n",
    "            * \"size\": integer to define marker size\n",
    "            * \"colorZvar\": variable to be displayed on the color (z) axis\n",
    "            * \"errY\", \"errX\": variables to be used as the error bars in y, x\n",
    "            * \"rescaleColorMapper\": if True, color (z) axis will automatically rescale when making the data selection with widgets\n",
    "* Identify the figure layout\n",
    "    * either an array with arrays for each row\n",
    "    * or a dictionary to create several tabs\n",
    "    * [[0,1,2, {options}, [3,4,5, {options}], {global options}]\n",
    "        * indices refer to indices of figure array\n",
    "        * {options}\n",
    "            * 'commonX': use common x-axis for all figures\n",
    "            * 'y_visible', 'x_visible': option for visibility of y,x axis titles\n",
    "            * 'plot_height': height of the plots\n",
    "            * 'sizing_mode': 'scale_width' -> Scale width of the dashboard automatically to the screen width\n",
    "* Draw the graphs using bokehDrawArray\n",
    "* Layout description can be a dictionary, this way it creates multiple tabs"
   ]
  },
  {
   "cell_type": "code",
   "execution_count": null,
   "metadata": {
    "scrolled": true
   },
   "outputs": [],
   "source": [
    "figureArray = [\n",
    "#   ['A'], ['C-A'], {\"color\": \"red\", \"size\": 7, \"colorZvar\":\"C\", \"filter\": \"A<0.5\"}],\n",
    "    [['A'], ['A*A-C*C'], {\"size\": 2, \"colorZvar\": \"A\"}],\n",
    "    [['A'], ['C+A', 'C-A', 'A/A']],\n",
    "    [['B'], ['C+B', 'C-B'], { \"colorZvar\": \"D\", \"errY\": \"errY\", \"rescaleColorMapper\": True}],\n",
    "    [['D'], ['(A+B+C)*D'], {\"colorZvar\": \"D\", \"errY\": \"errY\"} ],\n",
    "    [['D'], ['D*10'], {\"errY\": \"errY\"}],\n",
    "    {\"size\":2, \"legend_options\": {\"label_text_font_size\": \"13px\"}}\n",
    "]\n",
    "layout = {\n",
    "    \"A\": [\n",
    "        [0, 1, 2, {'commonX': 1, 'y_visible': 1, 'x_visible':1, 'plot_height': 300}],\n",
    "        {'plot_height': 100, 'sizing_mode': 'scale_width', 'y_visible' : 2}\n",
    "        ],\n",
    "    \"B\": [\n",
    "        [3, 4, {'commonX': 1, 'y_visible': 3, 'x_visible':1, 'plot_height': 100}],\n",
    "        {'plot_height': 100, 'sizing_mode': 'scale_width', 'y_visible' : 2}\n",
    "        ]\n",
    "}\n",
    "tooltips = [(\"VarA\", \"(@A)\"), (\"VarB\", \"(@B)\"), (\"VarC\", \"(@C)\"), (\"VarD\", \"(@D)\")]\n",
    "pAll = bokehDrawArray(df, \"A>0\", figureArray, layout=layout, size=4, tooltips=tooltips)\n",
    "#show(pAll[0])"
   ]
  },
  {
   "cell_type": "code",
   "execution_count": null,
   "metadata": {},
   "outputs": [],
   "source": [
    "logging.disable(1)"
   ]
  },
  {
   "cell_type": "markdown",
   "metadata": {},
   "source": [
    "* Add sliders for selection\n",
    "* Possible sliders: \n",
    "    * range slider\n",
    "    * slider\n",
    "    * multiSelect\n",
    "    * select\n",
    "* widget layout description works same as figure layout description\n",
    "* Options for range slider and slider\n",
    "    * ['variable_x', min_x, max_x, step, mix_x_start, max_x_start]\n",
    "    * 'type':\n",
    "        * 'minmax': use minimum and maximum in data to define the range\n",
    "        * 'sigma': use the sigma around the mean to define the range\n",
    "        * 'sigmaMed': use the sigma around the median to define the range\n",
    "        * both 'sigma' and 'sigmaMed' to be used to exclude outliers from the selection\n",
    "    * 'sigma': n sigma ragne around the mean or median in case of 'type': 'sigma' or 'type': 'sigmaMed'\n",
    "    * 'bins': number of steps for the slider"
   ]
  },
  {
   "cell_type": "code",
   "execution_count": null,
   "metadata": {
    "scrolled": true
   },
   "outputs": [],
   "source": [
    "output_file(\"test2.html\")\n",
    "\n",
    "widgetParams=[\n",
    "    ['range', ['A']],\n",
    "    ['range', ['B', 0, 1, 0.1, 0, 1]],\n",
    "\n",
    "    ['range', ['C'], {'type': 'minmax'}],\n",
    "    ['range', ['D'], {'type': 'sigma', 'bins': 10, 'sigma': 3}],\n",
    "    ['range', ['E'], {'type': 'sigmaMed', 'bins': 10, 'sigma': 3}],\n",
    "    ['slider', ['AA'], {'bins': 10}],\n",
    "    ['multiSelect', [\"DDC\"]],\n",
    "    ['select',[\"CC\", 0, 1, 2, 3],  {\"default\": 1}],\n",
    "    ['multiSelect',[\"BoolB\"]],\n",
    "]\n",
    "widgetLayoutDesc={\n",
    "    \"Selection\": [[0, 1, 2], [3, 4], [5, 6],[7,8], {'sizing_mode': 'scale_width'}]\n",
    "    }    \n",
    "bokehDrawSA.fromArray(df, \"A>0\", figureArray, widgetParams, layout=layout, tooltips=tooltips, widgetLayout=widgetLayoutDesc)"
   ]
  },
  {
   "cell_type": "markdown",
   "metadata": {},
   "source": [
    "* Visualization parameters\n",
    "* So far only controllable by sliders and selects\n",
    "* If it controls a parameter, it needs \"callback\":\"parameter\" in options. This will probably be fixed soon, making the parameter redundant.\n",
    "* parameterArray options:\n",
    "    * name - the name it is indexed by in figureArray / aliasArray\n",
    "    * value - the initial value - because of a bug, if using a select to control the client side parameter, the \"default\" option has to be specified, otherwise it will be initialized to the first in the options list\n",
    "    * range - if controlled by a slider, the range the variable can take\n",
    "    * options - the options the parameter can have as its value\n",
    "* Controllable by parameterArray:\n",
    "    * color axis\n",
    "    * marker size\n",
    "    * legend options - in this example we set the legend font size\n",
    "    * functions in aliasArray"
   ]
  },
  {
   "cell_type": "code",
   "execution_count": null,
   "metadata": {},
   "outputs": [],
   "source": [
    "output_file(\"test3.html\")\n",
    "parameterArray = [\n",
    "    {\"name\": \"colorZ\", \"value\":\"EE\", \"options\":[\"A\", \"B\", \"DD\", \"EE\"]},\n",
    "    {\"name\": \"size\", \"value\":7, \"range\":[0, 30]},\n",
    "    {\"name\": \"legendFontSize\", \"value\":\"13px\", \"options\":[\"9px\", \"11px\", \"13px\", \"15px\"]},\n",
    "]\n",
    "\n",
    "figureArray = [\n",
    "    [['A'], ['A*A-C*C'], {\"size\": 2, \"colorZvar\": \"A\", \"errY\": \"errY\", \"errX\":\"0.01\"}],\n",
    "    [['A'], ['C+A', 'C-A', 'A/A']],\n",
    "    [['B'], ['C+B', 'C-B'], { \"colorZvar\": \"colorZ\", \"errY\": \"errY\", \"rescaleColorMapper\": True}],\n",
    "    [['D'], ['(A+B+C)*D'], {\"colorZvar\": \"colorZ\", \"size\": 10, \"errY\": \"errY\"} ],\n",
    "    [['D'], ['D*10'], {\"errY\": \"errY\"}],\n",
    "    {\"size\":\"size\", \"legend_options\": {\"label_text_font_size\": \"legendFontSize\"}}\n",
    "]\n",
    "widgetParams=[\n",
    "    ['range', ['A']],\n",
    "    ['range', ['B', 0, 1, 0.1, 0, 1]],\n",
    "\n",
    "    ['range', ['C'], {'type': 'minmax'}],\n",
    "    ['range', ['D'], {'type': 'sigma', 'bins': 10, 'sigma': 3}],\n",
    "    ['range', ['E'], {'type': 'sigmaMed', 'bins': 10, 'sigma': 3}],\n",
    "    ['slider', ['AA'], {'bins': 10}],\n",
    "    ['multiSelect', [\"DDC\"]],\n",
    "    ['select',[\"CC\", 0, 1, 2, 3]],\n",
    "    ['multiSelect',[\"BoolB\"]],\n",
    "    #['slider','F', ['@min()','@max()','@med','@min()','@median()+3*#tlm()']], # to be implmneted\n",
    "    ['select',[\"colorZ\"], {\"callback\": \"parameter\", \"default\": 3}],\n",
    "    ['slider',[\"size\"], {\"callback\": \"parameter\"}],\n",
    "    ['select',[\"legendFontSize\"], {\"callback\": \"parameter\", \"default\": 2}],\n",
    "]\n",
    "widgetLayoutDesc={\n",
    "    \"Selection\": [[0, 1, 2], [3, 4], [5, 6],[7,8], {'sizing_mode': 'scale_width'}],\n",
    "    \"Graphics\": [[9, 10, 11], {'sizing_mode': 'scale_width'}]\n",
    "    }\n",
    "figureLayoutDesc={\n",
    "    \"A\": [\n",
    "        [0, 1, 2, {'commonX': 1, 'y_visible': 1, 'x_visible':1, 'plot_height': 300}],\n",
    "        {'plot_height': 100, 'sizing_mode': 'scale_width', 'y_visible' : 2}\n",
    "        ],\n",
    "    \"B\": [\n",
    "        [3, 4, {'commonX': 1, 'y_visible': 3, 'x_visible':1, 'plot_height': 100}],\n",
    "        {'plot_height': 100, 'sizing_mode': 'scale_width', 'y_visible' : 2}\n",
    "        ]\n",
    "}\n",
    "bokehDrawSA.fromArray(df, \"A>0\", figureArray, widgetParams, layout=layout, tooltips=tooltips, widgetLayout=widgetLayoutDesc, parameterArray=parameterArray)"
   ]
  },
  {
   "cell_type": "markdown",
   "metadata": {},
   "source": [
    "* Optimization\n",
    "    * Compress the data\n",
    "        * bokehDrawArray (and bokehDrawSA) take an arrayCompression parameter, which is a list of (regex, pipeline) pairs, where regex is the regular expression used to match column names\n",
    "          and pipeline is a list of operations to be used on the column. Supported values are \"relative\", \"delta\", \"zip\" and \"base64\" and the pipeline only works if the last step is (\"base64\", 0)\n",
    "        * Example: \n",
    "            ``arrayCompressionParam = [\n",
    "            (\".conv.Sigma.*\",[(\"relative\",7), (\"code\",0), (\"zip\",0), (\"base64\",0)]), \n",
    "            (\".delta.\",[(\"relative\",10), (\"code\",0), (\"zip\",0), (\"base64\",0)]), \n",
    "            (\".i2.\",[(\"relative\",7), (\"code\",0), (\"zip\",0), (\"base64\",0)]), \n",
    "            (\".*\",[(\"relative\",8), (\"code\",0), (\"zip\",0), (\"base64\",0)])]``\n",
    "            * Variables will be compressed in the given order. Once a variable was compressed, it will not be overwritten by another compression.\n",
    "            * Tuple paramters: (\".conv.Sigma.*\",[(\"relative\",7), (\"code\",0), (\"zip\",0), (\"base64\",0)])\n",
    "                * first parameter is a regex expression to match the column names to be compressed\n",
    "                * second parameter is a list of operation to be used on the column\n",
    "                    * most relevant for the user is the first parameter of the list which defines the lossy compression\n",
    "                        * \"absolute\": precision to be used in absolute units of the given variable, e.g. 0.0001\n",
    "                        * \"relative\": precision to be used in units of bits, e.g. 10\n",
    "                    * (\"code\",0), (\"zip\",0), (\"base64\",0)\n",
    "                        * lossless compression, e.g. by coding or zipping\n",
    "    * Random downsampling on the client\n",
    "        * if nPointRender is specified as an option to bokehDrawArray / bokehDrawSA the data is downsampled so that only n points from the original data source are rendered, improving the performance\n",
    "* Dashboard will be created in current directory"
   ]
  },
  {
   "cell_type": "code",
   "execution_count": null,
   "metadata": {},
   "outputs": [],
   "source": [
    "dfLarge = pd.DataFrame(np.random.random_sample(size=(100000, 6)), columns=list('ABCDEF'))\n",
    "initMetadata(dfLarge)\n",
    "dfLarge[\"B\"]=np.linspace(0,1,100000)\n",
    "dfLarge.eval(\"Bool=A>0.5\", inplace=True)\n",
    "dfLarge.eval(\"BoolB=B>0.5\", inplace=True)\n",
    "dfLarge.eval(\"BoolC=C>0.1\", inplace=True)\n",
    "dfLarge[\"A\"]=dfLarge[\"A\"].round(3)\n",
    "dfLarge[\"B\"]=dfLarge[\"B\"].round(3)\n",
    "dfLarge[\"C\"]=dfLarge[\"C\"].round(3)\n",
    "dfLarge[\"D\"]=dfLarge[\"D\"].round(3)\n",
    "dfLarge[\"AA\"]=((dfLarge.A*10).round(0)).astype(pd.CategoricalDtype(ordered=True))\n",
    "dfLarge[\"CC\"]=((dfLarge.C*5).round(0)).astype(int)\n",
    "dfLarge[\"DD\"]=((dfLarge.D*4).round(0)).astype(int)\n",
    "dfLarge[\"DDC\"]=((dfLarge.D*4).round(0)).astype(int).map(mapDDC)\n",
    "dfLarge[\"EE\"]=(dfLarge.E*4).round(0)\n",
    "dfLarge['errY']=dfLarge.A*0.02+0.02\n",
    "dfLarge.meta.metaData = {'A.AxisTitle': \"A (cm)\", 'B.AxisTitle': \"B (cm/s)\", 'C.AxisTitle': \"C (s)\", 'D.AxisTitle': \"D (a.u.)\", 'Bool.AxisTitle': \"A>half\", 'E.AxisTitle': \"Category\"}\n"
   ]
  },
  {
   "cell_type": "code",
   "execution_count": null,
   "metadata": {},
   "outputs": [],
   "source": [
    "arrayCompressionRelative8=[(\".*\",[(\"relative\",8), (\"code\", 0), (\"zip\",0), (\"base64\",0)])]\n",
    "output_file(\"test_compression.html\")\n",
    "bokehDrawSA.fromArray(dfLarge, None, figureArray, widgetParams, layout=layout, tooltips=tooltips,\n",
    "                            widgetLayout=widgetLayoutDesc, nPointRender=200, parameterArray=parameterArray, arrayCompression=arrayCompressionRelative8, useNotebook=False)"
   ]
  },
  {
   "cell_type": "code",
   "execution_count": null,
   "metadata": {},
   "outputs": [],
   "source": []
  }
 ],
 "metadata": {
  "kernelspec": {
   "display_name": "Python 3",
   "language": "python",
   "name": "python3"
  },
  "language_info": {
   "codemirror_mode": {
    "name": "ipython",
    "version": 3
   },
   "file_extension": ".py",
   "mimetype": "text/x-python",
   "name": "python",
   "nbconvert_exporter": "python",
   "pygments_lexer": "ipython3",
   "version": "3.6.9"
  }
 },
 "nbformat": 4,
 "nbformat_minor": 4
}

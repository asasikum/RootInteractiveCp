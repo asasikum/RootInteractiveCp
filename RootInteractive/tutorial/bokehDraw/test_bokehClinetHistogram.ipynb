{
 "cells": [
  {
   "cell_type": "markdown",
   "metadata": {},
   "source": [
    "# Tutorial for interactive histogramming\n",
    "* imprt libraries\n",
    "* generate random data source ABCD uniform\n",
    "* create figure layout and histogram aray\n",
    "* simple hstogramming\n",
    "* histogramming with table\n",
    "* histogramming with weights\n"
   ]
  },
  {
   "cell_type": "code",
   "execution_count": null,
   "metadata": {},
   "outputs": [],
   "source": [
    "from RootInteractive.InteractiveDrawing.bokeh.bokehDrawSA import *\n",
    "from RootInteractive.Tools.aliTreePlayer import *\n",
    "from bokeh.io import curdoc\n",
    "import os\n",
    "import sys\n",
    "import pytest\n",
    "from pandas import CategoricalDtype\n",
    "from bokeh.io import output_notebook\n",
    "output_notebook()\n",
    "# import logging"
   ]
  },
  {
   "cell_type": "markdown",
   "metadata": {},
   "source": [
    "# generate random data source ABCD uniform\n",
    "* anotating data with metadata\n",
    "* e.g axisTitle:\n",
    "   * \"'A.AxisTitle': \"A (cm)\"\n",
    "* here we will put link to github to see list of option"
   ]
  },
  {
   "cell_type": "code",
   "execution_count": null,
   "metadata": {},
   "outputs": [],
   "source": [
    "df = pd.DataFrame(np.random.random_sample(size=(20000, 4)), columns=list('ABCD'))\n",
    "initMetadata(df)\n",
    "MARKERS = ['hex', 'circle_x', 'triangle','square']\n",
    "markerFactor=factor_mark('DDC', MARKERS, [\"A0\",\"A1\",\"A2\",\"A3\",\"A4\"] )\n",
    "colorFactor=factor_cmap('DDC', 'Category10_6', [\"A0\",\"A1\",\"A2\",\"A3\",\"A4\"] )\n",
    "\n",
    "mapDDC={0:\"A0\",1:\"A1\",2:\"A2\",3:\"A3\",4:\"A4\"}\n",
    "df.eval(\"Bool=A>0.5\", inplace=True)\n",
    "df.eval(\"BoolB=B>0.5\", inplace=True)\n",
    "df[\"AA\"]=((df.A*10).round(0)).astype(CategoricalDtype(ordered=True))\n",
    "df[\"CC\"]=((df.C*5).round(0)).astype(int)\n",
    "df[\"DD\"]=((df.D*4).round(0)).astype(int)\n",
    "df[\"DDC\"]=((df.D*4).round(0)).astype(int).map(mapDDC)\n",
    "df['errY']=df.A*0.02+0.02\n",
    "df.head(10)\n",
    "df.meta.metaData = {'A.AxisTitle': \"A (cm)\", 'B.AxisTitle': \"B (cm/s)\", 'C.AxisTitle': \"C (s)\",\n",
    "                    'D.AxisTitle': \"D (a.u.)\", 'Bool.AxisTitle': \"A>half\"}\n"
   ]
  },
  {
   "cell_type": "markdown",
   "metadata": {},
   "source": [
    "#  create figure layout and histogram aray\n",
    "* tooltips\n",
    "  * what will be shown on the mouse over\n",
    "  * in case blow tooltips for varaible A, N, C and D\n",
    "  * variables to bokeh is interpreted as string @is adress operator \n",
    "    * it is possible to get fuction on client but has to be intgrate in wrappers \n",
    "* Widget params:\n",
    "  * [type, params]\n",
    "      * range\n",
    "      * slider\n",
    "      * select\n",
    "      * multiselect\n",
    "      * currently we are using array of parameters - positional argument\n",
    "      * in next version  dictionary and positional arguments .... \n",
    "* widgetLayoutDesc, figureLayoutDesc\n",
    "  * array of the rows with widget indices\n",
    "  * last argument are the options\n",
    "     * link to the git - possible options\n",
    "  * in bokeh widgtets can not be reused\n",
    "  \n",
    "* hitoArray\n",
    "   * array of histogram description\n",
    "   * convention as in histogramdd in numpy\n",
    "      * name \n",
    "      * varaibles\n",
    "      * nbins - sclar in array\n",
    "      * ranges [max,min] 0 in case not specified minimum maximum of data points for current selection  used\n",
    "      * qunatiles, sum_range\n",
    "         * parameters of agreagation function"
   ]
  },
  {
   "cell_type": "code",
   "execution_count": null,
   "metadata": {},
   "outputs": [],
   "source": [
    "tooltips = [(\"VarA\", \"(@A)\"), (\"B\", \"(@B)\"), (\"C (s)\", \"(@C)\"), (\"VarD (cm)\", \"(@D)\"),  (\"VarD (1/8cm)\", \"(8*@D)\")]\n",
    "\n",
    "widgetParams=[\n",
    "    ['range', ['A']],\n",
    "    ['range', ['B', 0, 1, 0.1, 0, 1]],\n",
    "    ['range', ['C'], {'type': 'minmax'}],\n",
    "    ['range', ['D'], {'type': 'sigma', 'bins': 10, 'sigma': 3}],\n",
    "    ['multiSelect', [\"DDC\"]],\n",
    "    ['select',[\"CC\", 0, 1, 2, 3]],\n",
    "    ['multiSelect',[\"BoolB\"]],\n",
    "]\n",
    "widgetLayoutDesc=[[0, 1, 2], [3, 4], [5, 6], {'sizing_mode': 'scale_width'}]\n",
    "\n",
    "figureLayoutDesc=[\n",
    "    [0, 1, 2, {'commonX': 1, 'y_visible': 1, 'x_visible':1, 'plot_height': 300}],\n",
    "    {'plot_height': 100, 'sizing_mode': 'scale_width', 'y_visible' : 2}\n",
    "]\n",
    "\n",
    "histoArray = [\n",
    "    {\"name\": \"histoA\", \"variables\": [\"A\"], \"nbins\":20, \"quantiles\": [.05, .5, .95], \"sum_range\": [[.25, .75], [.4, .6]]},\n",
    "    {\"name\": \"histoB\", \"variables\": [\"B\"], \"nbins\":20, \"range\": [0, 1]},\n",
    "    {\"name\": \"histoTransform\", \"variables\": [\"(A+B)/2\"],\"nbins\":20, \"sum_range\": [[.25, .75]]},\n",
    "    {\"name\": \"histoAB\", \"variables\": [\"A\", \"(A+B)/2\"], \"nbins\": [20, 20], \"weights\": \"D\"},\n",
    "]"
   ]
  },
  {
   "cell_type": "markdown",
   "metadata": {},
   "source": [
    "# Simple drawing without table and with original data superimposed"
   ]
  },
  {
   "cell_type": "code",
   "execution_count": null,
   "metadata": {},
   "outputs": [],
   "source": [
    "def testBokehClientHistogram():\n",
    "    output_file(\"test_BokehClientHistogram.html\")\n",
    "    figureArray = [\n",
    "        #   ['A'], ['C-A'], {\"color\": \"red\", \"size\": 7, \"colorZvar\":\"C\", \"filter\": \"A<0.5\"}],\n",
    "        [['A'], ['histoA', '(A*A-C*C)*100'], {\"size\": 2, \"colorZvar\": \"A\", \"errY\": \"errY\", \"errX\": \"0.01\"}],\n",
    "        [['(A+B)/2'], ['histoTransform', '(C+A)*200', '(C-A)*200']],\n",
    "        [['B'], ['histoB', '(C+B)*10', '(C-B)*10'], {\"size\": 7, \"colorZvar\": \"C\", \"errY\": \"errY\",\n",
    "                                                    \"rescaleColorMapper\": True}]\n",
    "    ]\n",
    "    xxx=bokehDrawSA.fromArray(df, \"A>0\", figureArray, widgetParams, layout=figureLayoutDesc, tooltips=tooltips,\n",
    "                              widgetLayout=widgetLayoutDesc, sizing_mode=\"scale_width\", nPointsRender=3000, histogramArray=histoArray)\n",
    "testBokehClientHistogram()"
   ]
  },
  {
   "cell_type": "markdown",
   "metadata": {},
   "source": [
    "# Example with table aggregation"
   ]
  },
  {
   "cell_type": "code",
   "execution_count": null,
   "metadata": {},
   "outputs": [],
   "source": [
    "def testBokehClientHistogramRowwiseTable():\n",
    "    output_file(\"test_BokehClientHistogramRowwiseTable.html\")\n",
    "    figureArray = [\n",
    "        [['A'], ['histoA']],\n",
    "        [['A'], ['histoAB'], {\"visualization_type\": \"colZ\", \"show_histogram_error\": True}],\n",
    "        [['A'], ['histoAB']],\n",
    "        [['B'], ['histoTransform'], {\"flip_histogram_axes\": True}],\n",
    "        [\"tableHisto\", {\"rowwise\": True}]\n",
    "    ]\n",
    "    figureLayoutDesc=[\n",
    "        [0, 1,  {'commonX': 1, 'y_visible': 1, 'x_visible':1, 'plot_height': 200}],\n",
    "        [2, 3, {'y_visible': 1, 'x_visible':1, 'plot_height': 200}],\n",
    "        [4, {'plot_height': 40}],\n",
    "        {'plot_height': 100, 'sizing_mode': 'scale_width', 'y_visible' : 2, \"size\": 5}\n",
    "    ]\n",
    "    xxx = bokehDrawSA.fromArray(df, \"A>0\", figureArray, widgetParams, layout=figureLayoutDesc, tooltips=tooltips,\n",
    "                                widgetLayout=widgetLayoutDesc, sizing_mode=\"scale_width\", histogramArray=histoArray)\n",
    "testBokehClientHistogramRowwiseTable()"
   ]
  },
  {
   "cell_type": "code",
   "execution_count": null,
   "metadata": {},
   "outputs": [],
   "source": []
  }
 ],
 "metadata": {
  "kernelspec": {
   "display_name": "Python 3",
   "language": "python",
   "name": "python3"
  },
  "language_info": {
   "codemirror_mode": {
    "name": "ipython",
    "version": 3
   },
   "file_extension": ".py",
   "mimetype": "text/x-python",
   "name": "python",
   "nbconvert_exporter": "python",
   "pygments_lexer": "ipython3",
   "version": "3.6.9"
  }
 },
 "nbformat": 4,
 "nbformat_minor": 2
}

{
 "cells": [
  {
   "cell_type": "markdown",
   "metadata": {},
   "source": [
    "# Bokeh Tree draw example\n",
    "*  Options:\n",
    "  * user converting TTree to pandas + interactive drawing using pandas\n",
    "  * using TTree draw using tree as input\n",
    "  \n",
    "* Demonstration of different widget types \n",
    "* TODO - show also:\n",
    "  * layouts\n",
    "  * for multigraph more suitable data to be used ...\n",
    "  \n"
   ]
  },
  {
   "cell_type": "code",
   "execution_count": null,
   "metadata": {},
   "outputs": [],
   "source": [
    "from RootInteractive.InteractiveDrawing.bokeh.bokehDraw import *\n",
    "from bokeh.io import output_notebook, show\n",
    "output_notebook()\n",
    "p3 = figure(plot_width=700, plot_height=400, title=\"template\")"
   ]
  },
  {
   "cell_type": "markdown",
   "metadata": {},
   "source": [
    "# Load tree and define aliases (panda and bokeh does not accept arrays and . in variable names )"
   ]
  },
  {
   "cell_type": "code",
   "execution_count": null,
   "metadata": {},
   "outputs": [],
   "source": [
    "ROOT.TFile.SetCacheFileDir(\"../data/\")\n",
    "tree=ROOT.AliTreePlayer.LoadTrees(\"cat performance.list\",\"identFit\",\"xxx\",\".*\",\"\",\"\")\n",
    "tree.SetAlias(\"norm\",\"param.fElements[0]\")\n",
    "tree.SetAlias(\"slope\",\"param.fElements[1]\")\n",
    "tree.SetAlias(\"isMax\",\"name.String().Contains(\\\"PionMax\\\")==0\");\n",
    "tree.SetAlias(\"isTot\",\"name.String().Contains(\\\"PionTot\\\")==0&&name.String().Contains(\\\"PionMaxTot\\\")==0\");\n",
    "tree.SetAlias(\"isMaxTot\",\"name.String().Contains(\\\"PionMaxTot\\\")>0\");\n",
    "tree.SetAlias(\"P0\",\"name.String().Contains(\\\"P0\\\")>0\");\n",
    "tree.SetAlias(\"P1\",\"name.String().Contains(\\\"P1\\\")>0\");\n",
    "tree.SetAlias(\"PA\",\"name.String().Contains(\\\"PA\\\")>0\");\n",
    "tree.SetAlias(\"MB\",\"name.String().Contains(\\\"MB\\\")>0\");"
   ]
  },
  {
   "cell_type": "markdown",
   "metadata": {},
   "source": [
    "# Bokeh draw directly from the tree"
   ]
  },
  {
   "cell_type": "code",
   "execution_count": null,
   "metadata": {},
   "outputs": [],
   "source": [
    "getTreeInfo(tree)"
   ]
  },
  {
   "cell_type": "code",
   "execution_count": null,
   "metadata": {},
   "outputs": [],
   "source": [
    "tooltips=[('Is maximum','@isMax'),(\"Pad type\",\"@typeF\")]\n",
    "tooltips[0][1]"
   ]
  },
  {
   "cell_type": "code",
   "execution_count": null,
   "metadata": {},
   "outputs": [],
   "source": [
    "bokehDraw.verbosity=0\n",
    "variables=\"pileUp:tailF:commonF:typeF:fraction:norm:slope:isMax:MB:P0:P1:PA\"\n",
    "tooltips=[('Is maximum','@isMax'),(\"Pad type\",\"@typeF\")]\n",
    "p3 = figure(plot_width=700, plot_height=400, title=\"template\")\n",
    "widgets=\"query.name(), accordion.first(slider.P0(0,1,0.5,0,1),slider.commonF(0,15,5,0,5)),accordion.second(dropdown.MB(0,0.5,1)),accordion.second(checkbox.isMax(False)),slider.typeF(0,4,1,0)\"\n",
    "\n",
    "#xxx=bokehDraw(tree,\"tailF>-1\",\"tailF\",\"slope\",\"fraction\",slider,p3,commonX=1,size=8,ncols=1,nEntries=100000000,tooltips=tooltips,variables=variables)\n",
    "xxx=bokehDraw(tree,\"tailF>=-1\",\"tailF\",\"slope\",\"fraction\",widgets,p3,commonX=1,size=8,ncols=1,nEntries=100000000,tooltips=tooltips)"
   ]
  },
  {
   "cell_type": "markdown",
   "metadata": {},
   "source": [
    "# Convert selected variables from tree to panda and draw"
   ]
  },
  {
   "cell_type": "code",
   "execution_count": null,
   "metadata": {},
   "outputs": [],
   "source": [
    "variables=\"pileUp:tailF:commonF:typeF:fraction:param.fElements[1]:norm:slope:isMax:MB:P0:P1:PA:isMaxTot\"\n",
    "df=treeToPanda(tree,variables,\"1\",100000000,0,\".fElements\");\n",
    "#widgets=\"tab.first(slider.commonF(0,15,5,0,5)),tab.second(dropdown.MB(0,0.5,1)),accordion.first(slider.P0(0,1,0.5,0,1)),accordion.second(checkbox.isMax),slider.typeF(0,4,1,0)\"\n",
    "widgets=\"query.custom(), tab.sliders(slider.commonF(0,15,5,0,5),slider.fraction(0,100,4,0,100)),\"\n",
    "widgets+=\"tab.options(checkbox.P0(0),checkbox.P1(1),checkbox.isMax(True), checkbox.isMaxTot(false), checkbox.MB(), checkbox.pileUp()))\"\n",
    "bokeh=bokehDraw(df,\"tailF>-1\",\"tailF\",\"slope\",\"fraction\",widgets,p3,commonX=1,size=6,ncols=1, tooltips=tooltips)"
   ]
  },
  {
   "cell_type": "markdown",
   "metadata": {},
   "source": [
    "# Bokeh draw via figure array"
   ]
  },
  {
   "cell_type": "code",
   "execution_count": null,
   "metadata": {},
   "outputs": [],
   "source": [
    "variables=\"pileUp:tailF:commonF:typeF:fraction:param.fElements[1]:norm:slope:isMax:MB:P0:P1:PA:isMaxTot\"\n",
    "df=treeToPanda(tree,variables,\"1\",100000000,0,\".fElements\");\n",
    "\n",
    "tooltips=[('Is maximum','@isMax'),(\"Pad type\",\"@typeF\")]\n",
    "p3 = figure(plot_width=700, plot_height=400, title=\"template\")\n",
    "widgets=\"query.custom(), accordion.first(slider.P0(0,1,0.5,0,1),slider.commonF(0,15,5,0,5)),accordion.second(dropdown.MB(0,0.5,1)),accordion.second(checkbox.isMax(False)),slider.typeF(0,4,1,0)\"\n",
    "\n",
    "figureArray= [\n",
    "    [['tailF'], ['slope','norm-1'], {\"color\": \"red\", \"size\": 2, \"colorZvar\":\"fraction\"}],\n",
    "    [['fraction'], ['slope','norm-1'], {\"color\": \"red\", \"size\": 2, \"colorZvar\":\"tailF\"}],\n",
    "    ['table']\n",
    "]\n",
    "figureLayout: str = '((0,1),(2, x_visible=1),commonY=1, x_visible=1,y_visible=0,plot_height=250,plot_width=1000)'"
   ]
  },
  {
   "cell_type": "code",
   "execution_count": null,
   "metadata": {},
   "outputs": [],
   "source": [
    "#bokeh=bokehDraw.fromArray(df,\"tailF>-1\",figureArray,widgets,layout=figureLayout, tooltips=tooltips)\n",
    "fig=bokehDraw.fromArray(tree, \"tailF>=-1\", figureArray,widgets,tooltips=tooltips, layout=figureLayout,nEntries=100000000)"
   ]
  },
  {
   "cell_type": "code",
   "execution_count": null,
   "metadata": {},
   "outputs": [],
   "source": []
  }
 ],
 "metadata": {
  "kernelspec": {
   "display_name": "Python 3",
   "language": "python",
   "name": "python3"
  },
  "language_info": {
   "codemirror_mode": {
    "name": "ipython",
    "version": 3
   },
   "file_extension": ".py",
   "mimetype": "text/x-python",
   "name": "python",
   "nbconvert_exporter": "python",
   "pygments_lexer": "ipython3",
   "version": "3.6.8"
  }
 },
 "nbformat": 4,
 "nbformat_minor": 2
}

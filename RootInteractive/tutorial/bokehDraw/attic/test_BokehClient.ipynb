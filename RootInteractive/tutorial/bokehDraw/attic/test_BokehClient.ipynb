{
 "cells": [
  {
   "cell_type": "markdown",
   "metadata": {},
   "source": [
    "# Test macro for Bokeh client visualization\n",
    "* NOT FOR STANDARD USERS\n",
    "* This notebook to be used for developpers to test feature of bokeh interactive  - standalone plotting"
   ]
  },
  {
   "cell_type": "code",
   "execution_count": null,
   "metadata": {},
   "outputs": [],
   "source": [
    "from bokeh.io import output_notebook, show\n",
    "#, output_file\n",
    "from bokeh.plotting import figure\n",
    "from bokeh.layouts import column, row\n",
    "from bokeh.models import CustomJS, ColumnDataSource, Slider\n",
    "from RootInteractive.InteractiveDrawing.bokeh.bokehTools import *\n",
    "from RootInteractive.InteractiveDrawing.bokeh.bokehDraw import *\n",
    "from bokeh.io import output_notebook\n",
    "output_notebook()\n"
   ]
  },
  {
   "cell_type": "code",
   "execution_count": null,
   "metadata": {},
   "outputs": [],
   "source": [
    "#init test random data\n",
    "df = pd.DataFrame(np.random.randint(0, 100, size=(100, 4)), columns=list('ABCD'))\n",
    "df[\"Category\"]=df.eval(\"A%5\")\n",
    "df.head(10)\n",
    "initMetadata(df)\n",
    "df.meta.metaData = {'A.AxisTitle': \"A (cm)\", 'B.AxisTitle': \"B (cm/s)\", 'C.AxisTitle': \"C (s)\", 'D.AxisTitle': \"D (a.u.)\"}\n",
    "#print(df.metaData)"
   ]
  },
  {
   "cell_type": "code",
   "execution_count": null,
   "metadata": {},
   "outputs": [],
   "source": [
    "figureArray = [\n",
    "    [['A'], ['C-A'], {\"color\": \"red\", \"size\": 7, \"colorZvar\":\"C\"}],\n",
    "    [['A'], ['C+A', 'C-A']],\n",
    "    [['B'], ['C+B', 'C-B'],{\"color\": \"red\", \"size\": 7, \"colorZvar\":\"C\"}],\n",
    "    [['D'], ['sin(D/10)', 'sin(D/20)*0.5', 'sin(D/40)*0.25'], {\"size\": 10}],\n",
    "    ['table']\n",
    "]\n",
    "\n",
    "figureLayout: str = '((0,1,2),(3, x_visible=1),commonX=1,x_visible=1,y_visible=0,plot_height=250,plot_width=1000)'\n",
    "tooltips = [(\"VarA\", \"(@A)\"), (\"VarB\", \"(@B)\"), (\"VarC\", \"(@C)\"), (\"VarD\", \"(@D)\")]\n",
    "pAll,layoutList,source,data  =bokehDrawArray(df, \"A>0\", figureArray, layout=figureLayout, color=\"blue\", size=4, tooltips=tooltips)\n",
    "show(pAll)"
   ]
  },
  {
   "cell_type": "code",
   "execution_count": null,
   "metadata": {},
   "outputs": [],
   "source": [
    "logging.disable(1)"
   ]
  },
  {
   "cell_type": "code",
   "execution_count": null,
   "metadata": {},
   "outputs": [],
   "source": [
    "output_file(\"test2.html\")\n",
    "\n",
    "def test_FigureArray():\n",
    "    \"\"\"\n",
    "    Test of the bokehDrawArray to draw figure array -\n",
    "    :return:\n",
    "    \"\"\"\n",
    "    # 1.) create figures\n",
    "    figureLayout: str = '((0,1,2, plot_height=200),(3, x_visible=1),commonX=1,x_visible=1,y_visible=0,plot_height=150,plot_width=1000)'\n",
    "    tooltips = [(\"VarA\", \"(@A)\"), (\"VarB\", \"(@B)\"), (\"VarC\", \"(@C)\"), (\"VarD\", \"(@D)\")]\n",
    "    #dummy,source,figureList  = bokehDrawArray(df, \"A>0\", figureArray, layout=figureLayout, color=\"blue\", size=4, tooltips=tooltips)\n",
    "    dummy,source,figureList,data  = bokehDrawArray(df, \"A>0\", figureArray, layout=figureLayout, color=\"blue\", size=4, tooltips=tooltips)\n",
    "\n",
    "    # 2.) make CDS\n",
    "    cdsOrig = ColumnDataSource(df.query(\"A>0\"))\n",
    "    cdsSel =  source\n",
    "    widgetDict={\"cdsOrig\":cdsOrig, \"cdsSel\":cdsSel}\n",
    "    sliders=[]\n",
    "    # 3.) create sliders \n",
    "    for a in df.columns:\n",
    "        length=df[a].max()-df[a].min()\n",
    "        sliderRange= RangeSlider(start=df[a].min(), end=df[a].max(), value=(df[a].min(), df[a].max()), step=length*0.01, title=a+\"Range\")\n",
    "        sliders.append([sliderRange])\n",
    "        widgetDict[a+\"Range\"]=sliderRange\n",
    "    # make callback\n",
    "    mycallback=makeJScallback(widgetDict)\n",
    "    display(mycallback)\n",
    "    for a in sliders:\n",
    "        figureList.append(a)\n",
    "        a[0].js_on_event('value',mycallback)\n",
    "        a[0].js_on_change('value',mycallback)\n",
    "        \n",
    "    sliderRange2= RangeSlider(start=0.1, end=4, value=(0.1,4) , step=0.1, title=\"Range2\")\n",
    "    sliderRange2.js_on_change('value', mycallback)\n",
    "    figureList.append([sliderRange2])\n",
    "    pAll=    gridplotRow(figureList)\n",
    "    show(pAll)\n",
    "    return pAll\n",
    "    #print(widgetDict)\n",
    "    \n",
    "figure=test_FigureArray() "
   ]
  }
 ],
 "metadata": {
  "kernelspec": {
   "display_name": "Python 3",
   "language": "python",
   "name": "python3"
  },
  "language_info": {
   "codemirror_mode": {
    "name": "ipython",
    "version": 3
   },
   "file_extension": ".py",
   "mimetype": "text/x-python",
   "name": "python",
   "nbconvert_exporter": "python",
   "pygments_lexer": "ipython3",
   "version": "3.6.8"
  }
 },
 "nbformat": 4,
 "nbformat_minor": 2
}

{
 "cells": [
  {
   "cell_type": "markdown",
   "metadata": {},
   "source": [
    "# Interactive drawing for array of figures"
   ]
  },
  {
   "cell_type": "code",
   "execution_count": null,
   "metadata": {},
   "outputs": [],
   "source": [
    "from bokeh.io import output_notebook\n",
    "from RootInteractive.InteractiveDrawing.bokeh.bokehDraw import *\n",
    "output_notebook()\n",
    "# import logging\n",
    "\n",
    "df = pd.DataFrame(np.random.randint(0, 100, size=(100, 4)), columns=list('ABCD'))\n",
    "df.head(10)\n",
    "df.metaData = {'A.AxisTitle': \"A (cm)\", 'B.AxisTitle': \"B (cm/s)\", 'C.AxisTitle': \"C (s)\", 'D.AxisTitle': \"D (a.u.)\"}\n",
    "\n",
    "\n",
    "figureArray = [\n",
    "    [['A'], ['C-A'], {\"color\": \"red\", \"size\": 7, \"colorZvar\":\"C\"}],\n",
    "    [['A'], ['C+A', 'C-A']],\n",
    "    [['B'], ['C+B', 'C-B'],{\"color\": \"red\", \"size\": 7, \"colorZvar\":\"C\"}],\n",
    "    [['D'], ['sin(D/10)', 'sin(D/20)*0.5', 'sin(D/40)*0.25'], {\"size\": 10}],\n",
    "    ['table']\n",
    "]\n",
    "\n"
   ]
  },
  {
   "cell_type": "code",
   "execution_count": null,
   "metadata": {},
   "outputs": [],
   "source": [
    "widgets=\"tab.sliders(slider.A(0,100,1,10,90),slider.B(0,100,1,0,100),slider.C(0,100,1,0,100), slider.D(0,100,1,10,80))\"\n",
    "figureLayout: str = '((0,1,2),(3, x_visible=1),commonX=1,x_visible=1,y_visible=0,plot_height=250,plot_width=1000)'\n",
    "tooltips = [(\"VarA\", \"(@A)\"), (\"VarB\", \"(@B)\"), (\"VarC\", \"(@C)\"), (\"VarD\", \"(@D)\")]\n",
    "fig=bokehDraw.fromArray(df, \"A>0\", figureArray,widgets,tooltips=tooltips, layout=figureLayout)\n",
    "fig.verbosity=1"
   ]
  },
  {
   "cell_type": "code",
   "execution_count": null,
   "metadata": {},
   "outputs": [],
   "source": []
  }
 ],
 "metadata": {
  "kernelspec": {
   "display_name": "Python 3",
   "language": "python",
   "name": "python3"
  },
  "language_info": {
   "codemirror_mode": {
    "name": "ipython",
    "version": 3
   },
   "file_extension": ".py",
   "mimetype": "text/x-python",
   "name": "python",
   "nbconvert_exporter": "python",
   "pygments_lexer": "ipython3",
   "version": "3.6.8"
  }
 },
 "nbformat": 4,
 "nbformat_minor": 2
}

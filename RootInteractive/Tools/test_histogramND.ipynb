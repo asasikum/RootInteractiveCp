{
 "cells": [
  {
   "cell_type": "code",
   "execution_count": null,
   "metadata": {},
   "outputs": [],
   "source": [
    "import ROOT\n",
    "ROOT.gSystem.Load(\"$ALICE_ROOT/lib/libSTAT.so\")\n",
    "from RootInteractive.Tools.histogramND import *\n",
    "from RootInteractive.Tools.aliTreePlayer import *\n",
    "from RootInteractive.Tools.Alice.BetheBloch import *\n",
    "from bokeh.plotting import figure, ColumnDataSource, curdoc\n",
    "histogramMap={}\n",
    "histogramMapABCD={}\n",
    "controlList=[]\n",
    "tooltips=[(\"x\", \"$x\"), (\"y\", \"$y\"), (\"value\", \"@image\")]\n",
    "layout\n",
    "fig0=None\n",
    "fig1=None"
   ]
  },
  {
   "cell_type": "code",
   "execution_count": null,
   "metadata": {},
   "outputs": [],
   "source": [
    "def initControlList():\n",
    "    #slider = Slider(start=0, end=100, step=5, value=50, title=\"A\")\n",
    "    controlList.append(RangeSlider(start=0, end=100, step=5, value=(10,80), title=\"A\"))\n",
    "    controlList.append(RangeSlider(start=0, end=100, step=5, value=(20,90), title=\"B\"))\n",
    "    controlList.append(RangeSlider(start=0, end=100, step=5, value=(30,100), title=\"C\"))\n",
    "    controlList.append(RangeSlider(start=0, end=100, step=5, value=(40,120), title=\"D\"))\n",
    "\n",
    "\n",
    "def makeMapABCD(nPoints=100000):\n",
    "    df = pd.DataFrame(np.random.randint(0,100,size=(nPoints, 4)), columns=list('ABCD'))\n",
    "    histoStringArray = [\n",
    "        \"A:B:C:D:#A+B>100>>hABCD0(100,0,100,50,0,100,50,0,100,50,0,100)\",\n",
    "        \"A:B:C:D:#A+C>100>>hABCD1(100,0,100,50,0,100,50,0,100,50,0,100)\",\n",
    "        \"A:B:C:D:#A+D>100>>hABCD2(100,0,100,50,0,100,50,0,100,50,0,100)\"\n",
    "    ]\n",
    "    global histogramMapABCD\n",
    "    histogramMapABCD = histogramND.makeHistogramMap(df, histoStringArray)\n",
    "\n",
    "\n",
    "def testHistoPanda(nPoints=10000):\n",
    "    dataFrame = toyMC(nPoints)\n",
    "    dataFrame.head(5)\n",
    "    histoStringArray = [\n",
    "        \"TRD:tgl:p:particle:#TRD>0>>hisTRD(200,0.5,3,5,-1,1, 200,0.3,5,5,0,5)\",\n",
    "        \"TPC:tgl:p:particle:#TPC>0>>hisTPCT(200,0.5,3,5, -1,1, 200,0.3,5,5,0,5)\",\n",
    "        \"TPC0:tgl:p:particle:#TPC>0>>hisTPC0(200,0.5,3,5, -1,1, 200,0.3,5,5,0,5)\"\n",
    "    ]\n",
    "    output_file(\"test_histoNDTools.html\")\n",
    "    global histogramMap\n",
    "    histogramMap = histogramND.makeHistogramMap(dataFrame, histoStringArray)\n",
    "    assert isinstance(histogramMap, dict)\n",
    "    makeMapABCD(nPoints)\n",
    "    global histogramMapABCD\n",
    "    assert isinstance(histogramMapABCD, dict)\n",
    "    return histogramMap\n",
    "\n",
    "def testHistPandaDraw():\n",
    "    #output_file(\"test_histogramND_testHistPandaDrawColz.html\")\n",
    "    initControlList()\n",
    "    histogram= histogramMap[\"hisTRD\"]\n",
    "    fig0, data0 = histogram.bokehDrawColz(np.index_exp[0:200, 0:5, 10:20,0:5],0,3, 1, {'plot_width':600, 'plot_height':600},{'size': 5})\n",
    "    show(fig0)\n",
    "    fig1 = histogramMapABCD['hABCD1'].bokehDraw1D(np.index_exp[0:100, 0:100, 0:100, 0:100], 0, {'plot_width':600, 'plot_height':600}, {'tooltips': tooltips})\n",
    "    fig2 = histogramMapABCD['hABCD2'].bokehDraw2D(np.index_exp[0:100, 0:100, 0:100, 0:100], 0, 3, {'plot_width':600, 'plot_height':600}, {'tooltips': tooltips})\n",
    "    #show(row(fig1,fig2))\n",
    "    global layout\n",
    "    layout=column(row(fig1,fig2),row(controlList))\n",
    "    return fig0\n",
    "\n",
    "def testHistoProjection():\n",
    "    #pass\n",
    "    projection=histogramNDProjection.fromMap(\"((hABCD0+hABCD1+hABCD1) (0:100,1:10,0:10,0:100) (0,1) ()))\",histogramMapABCD)\n",
    "    return projection\n",
    "\n",
    "def testcallback(attr, old, new):\n",
    "    print(controlList[0].value,controlList[1].value)\n",
    "\n",
    "\n"
   ]
  },
  {
   "cell_type": "code",
   "execution_count": null,
   "metadata": {},
   "outputs": [],
   "source": [
    "testHistoPanda(100000)\n",
    "testHistPandaDraw()\n",
    "projection=testHistoProjection()\n",
    "print(projection)\n",
    "hisExpresion=projection.evaluateHistogram()\n",
    "hisExpresion=projection.evaluateHistogram()\n",
    "print(hisExpresion)\n",
    "for rslider in controlList:\n",
    "    rslider.on_change('value', testcallback)\n",
    "s,h = projection.makeProjection(controlList,[0,1],\"0:100,1:100,:,:\")\n",
    "show(layout)\n",
    "#curdoc().add_root(layout)"
   ]
  },
  {
   "cell_type": "code",
   "execution_count": null,
   "metadata": {},
   "outputs": [],
   "source": [
    "show(layout)\n",
    "\n"
   ]
  },
  {
   "cell_type": "code",
   "execution_count": null,
   "metadata": {},
   "outputs": [],
   "source": []
  },
  {
   "cell_type": "code",
   "execution_count": null,
   "metadata": {},
   "outputs": [],
   "source": [
    "\n"
   ]
  }
 ],
 "metadata": {
  "kernelspec": {
   "display_name": "Python 3",
   "language": "python",
   "name": "python3"
  },
  "language_info": {
   "codemirror_mode": {
    "name": "ipython",
    "version": 3
   },
   "file_extension": ".py",
   "mimetype": "text/x-python",
   "name": "python",
   "nbconvert_exporter": "python",
   "pygments_lexer": "ipython3",
   "version": "3.6.8"
  },
  "pycharm": {
   "stem_cell": {
    "cell_type": "raw",
    "metadata": {
     "collapsed": false
    },
    "source": []
   }
  }
 },
 "nbformat": 4,
 "nbformat_minor": 2
}

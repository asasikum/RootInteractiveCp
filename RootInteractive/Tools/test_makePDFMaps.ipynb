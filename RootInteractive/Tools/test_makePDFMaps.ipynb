{
 "cells": [
  {
   "cell_type": "markdown",
   "metadata": {},
   "source": [
    "#  N dismsional pipeline example"
   ]
  },
  {
   "cell_type": "code",
   "execution_count": null,
   "metadata": {},
   "outputs": [],
   "source": [
    "from makePDFMaps import *\n",
    "from RootInteractive.InteractiveDrawing.bokeh.bokehDrawSA import *\n",
    "from bokeh.io import output_notebook\n",
    "import matplotlib.pyplot as plt\n",
    "output_notebook()"
   ]
  },
  {
   "cell_type": "code",
   "execution_count": null,
   "metadata": {},
   "outputs": [],
   "source": [
    "# Parameters:\n",
    "sigmaPoint=0.3\n",
    "npoints=4000000"
   ]
  },
  {
   "cell_type": "markdown",
   "metadata": {},
   "source": [
    "# Random Data Frame generator"
   ]
  },
  {
   "cell_type": "markdown",
   "metadata": {},
   "source": [
    "\n",
    "* Generate random data with spread sigmaPoint in 4 D space\n",
    "  * $ y=A\\, e^{B} \\sin{C} $"
   ]
  },
  {
   "cell_type": "code",
   "execution_count": null,
   "metadata": {},
   "outputs": [],
   "source": [
    "df = pd.DataFrame(np.random.random_sample(size=(npoints, 3)), columns=list('ABC'))\n",
    "df[\"noise\"]=np.random.normal(0, 0.15, npoints)\n",
    "df[\"csin\"]=np.sin(6.28*df[\"C\"])\n",
    "df[\"valueOrig\"]=df[\"A\"]+np.exp(0.0*df[\"B\"])*df[\"csin\"]\n",
    "df[\"value\"]=df[\"valueOrig\"]+df[\"noise\"]\n",
    "df.tail()\n"
   ]
  },
  {
   "cell_type": "markdown",
   "metadata": {},
   "source": [
    "# Make Histogram"
   ]
  },
  {
   "cell_type": "markdown",
   "metadata": {},
   "source": [
    "* make 5D histogram\n",
    "  * using ./RootInteractive/Tools/histoNDTools.py"
   ]
  },
  {
   "cell_type": "code",
   "execution_count": null,
   "metadata": {},
   "outputs": [],
   "source": [
    "histo=makeHistogram(df,\"value:A:B:C:#A>0>>myhisto(40,-2,2,50,0,1,100,0,1,50,0,1)\")\n"
   ]
  },
  {
   "cell_type": "markdown",
   "metadata": {},
   "source": [
    "# Inputs"
   ]
  },
  {
   "cell_type": "markdown",
   "metadata": {},
   "source": [
    "* make statistic maps "
   ]
  },
  {
   "cell_type": "code",
   "execution_count": null,
   "metadata": {},
   "outputs": [],
   "source": [
    "slices=((0,40,1,0),(10,30,1,2),(10,24,1,2),(1,49,3,1))   # start:stop:step:width\n",
    "dimI=0                                                               # dimension of interest  "
   ]
  },
  {
   "cell_type": "code",
   "execution_count": null,
   "metadata": {},
   "outputs": [],
   "source": [
    "dframe = makePdfMaps(histo,slices,dimI, quantiles=[25,50,75])\n",
    "dframe.sample(10)"
   ]
  },
  {
   "cell_type": "markdown",
   "metadata": {},
   "source": [
    "* compare extracted statistic with the original function\n",
    "  * residula histogram - stat - point\n",
    "    ** rms should be ~ simgaPoint\n",
    "  * residual hsitogram - statt - original function\n",
    "    ** rms should be ~/sigmaPoint/sqrt(nPoints) per bin\n",
    "  * values will be close to expectation in case sufficiennt number of bins\n",
    "    * Sampling should be more than 1 sample per sigma (https://en.wikipedia.org/wiki/Nyquist%E2%80%93Shannon_sampling_theorem)\n",
    "    * second derivative within bin should be negligible\n",
    "    * for mean sigmaPoint>dvalue/dXidXj *dxidxj\n",
    "    * for sigma  sigmaPoint>dvalue/dXi *dxi\n",
    "    \n",
    "    "
   ]
  },
  {
   "cell_type": "code",
   "execution_count": null,
   "metadata": {},
   "outputs": [],
   "source": [
    "dframe[\"csin\"]=np.sin(6.28*dframe[\"CBinCenter\"])\n",
    "dframe[\"valueOrig\"]=dframe[\"ABinCenter\"]+np.exp(0*dframe[\"BBinCenter\"])*dframe[\"csin\"]\n",
    "dframe[\"stddev\"]=np.sqrt(dframe[\"rms\"]**2-dframe[\"means\"]**2)\n",
    "dframe[\"quantile_diff\"]=dframe[\"quantile_75\"] - dframe[\"quantile_25\"]\n",
    "dframe[\"median_diff\"]=dframe[\"medians\"] - dframe[\"quantile_50\"]\n",
    "dframe.sample(20)\n"
   ]
  },
  {
   "cell_type": "code",
   "execution_count": null,
   "metadata": {},
   "outputs": [],
   "source": [
    "dframe[\"median_diff\"].hist()"
   ]
  },
  {
   "cell_type": "code",
   "execution_count": null,
   "metadata": {},
   "outputs": [],
   "source": [
    "plt.plot(dframe[\"stddev\"])\n",
    "plt.show()"
   ]
  },
  {
   "cell_type": "code",
   "execution_count": null,
   "metadata": {},
   "outputs": [],
   "source": [
    "\n",
    "figureArray = [\n",
    "    [['CBinCenter'], ['valueOrig','means-valueOrig', 'medians-valueOrig']],\n",
    "    [['CBinCenter'],['quantile_diff']]\n",
    "]\n",
    "tooltips = [(\"A\", \"(@ABinCenter)\"),(\"B\", \"(@BBinCenter)\"),(\"C\", \"(@CBinCenter)\"),(\"D\", \"(@DBinCenter)\"), ]\n",
    "figureLayout: str = '((0),(1),x_visible=1,y_visible=0,plot_height=250,plot_width=1000)'\n",
    "bokehDrawSA.fromArray(dframe, \"ABinNumber>0\",figureArray, [], layout=figureLayout, tooltips=tooltips  )"
   ]
  },
  {
   "cell_type": "code",
   "execution_count": null,
   "metadata": {},
   "outputs": [],
   "source": [
    "dframe[\"diff\"]=dframe[\"valueOrig\"]-dframe[\"means\"]\n",
    "dframe[\"pull\"]=dframe[\"diff\"]/(sigmaPoint/np.sqrt(dframe[\"entries\"]))\n",
    "dframe.head(5)\n",
    "dframe[\"diff\"].hist(bins=100)\n",
    "dframe[\"pull\"].hist(bins=100)\n",
    "dframe[\"diff\"].std()\n",
    "dframe[\"pull\"].std()"
   ]
  },
  {
   "cell_type": "code",
   "execution_count": null,
   "metadata": {},
   "outputs": [],
   "source": [
    "bokehDraw?"
   ]
  }
 ],
 "metadata": {
  "kernelspec": {
   "display_name": "Python 3",
   "language": "python",
   "name": "python3"
  },
  "language_info": {
   "codemirror_mode": {
    "name": "ipython",
    "version": 3
   },
   "file_extension": ".py",
   "mimetype": "text/x-python",
   "name": "python",
   "nbconvert_exporter": "python",
   "pygments_lexer": "ipython3",
   "version": "3.6.9"
  }
 },
 "nbformat": 4,
 "nbformat_minor": 2
}

{
 "cells": [
  {
   "cell_type": "markdown",
   "metadata": {},
   "source": [
    "# Jupyter notebook to demonstrate functionality of the MIxgboostErrPDF wrapper"
   ]
  },
  {
   "cell_type": "code",
   "execution_count": null,
   "metadata": {},
   "outputs": [],
   "source": [
    "#  from RootInteractive.MLpipeline.test_MIxgboostErrPDF import *\n",
    "import pandas as pd\n",
    "import numpy as np\n",
    "import pickle\n",
    "from RootInteractive.InteractiveDrawing.bokeh.bokehDrawSA import *\n",
    "from RootInteractive.MLpipeline.NDFunctionInterface import *\n",
    "#from bokeh.io import output_notebook\n",
    "from RootInteractive.MLpipeline.RandoForestErrPDF import *\n",
    "from RootInteractive.MLpipeline.MIForestErrPDF import *\n",
    "from RootInteractive.MLpipeline.local_linear_forest import LocalLinearForestRegressor\n",
    "import pdb;\n",
    "import sys\n",
    "import os;\n",
    "import xgboost as xgb\n",
    "from RootInteractive.MLpipeline.MIxgboostErrPDF import *\n",
    "from scipy.signal import medfilt"
   ]
  },
  {
   "cell_type": "code",
   "execution_count": null,
   "metadata": {},
   "outputs": [],
   "source": [
    "from xgboost import XGBRegressor"
   ]
  },
  {
   "cell_type": "markdown",
   "metadata": {},
   "source": [
    "## Generate input data"
   ]
  },
  {
   "cell_type": "code",
   "execution_count": null,
   "metadata": {},
   "outputs": [],
   "source": [
    "def generateF1(nPoints, n, outFraction,stdIn):\n",
    "    \"\"\"\n",
    "    Generate random panda+tree random vectors A,B,C,D  - A and C used to define function\n",
    "        * generate function value = 2*A*sin(n*6.28*C)\n",
    "        * generate noise vector\n",
    "        * calculate local gradient of function\n",
    "    \"\"\"\n",
    "    df = pd.DataFrame(np.random.random_sample(size=(nPoints, 4)), columns=list('ABCD'))\n",
    "    df[\"B\"]=df[\"B\"]+0.5\n",
    "    df[\"noise\"] = np.random.normal(0, stdIn, nPoints)\n",
    "    #df[\"noise\"]+=np.roll(df[\"noise\"],1)   - adding correlated noise?\n",
    "    df[\"noise\"] += (np.random.random(nPoints)<outFraction)*np.random.normal(0, 2, nPoints)\n",
    "    df[\"csin\"] = np.sin(n*6.28 * df[\"C\"])\n",
    "    df[\"ccos\"] = np.cos(n*6.28 * df[\"C\"])\n",
    "    df[\"valueOrig\"] = 2*df[\"A\"]*df[\"csin\"]\n",
    "    df[\"value\"] = df[\"valueOrig\"] + df[\"noise\"]\n",
    "    df[\"gradA\"] = df[\"csin\"]\n",
    "    df[\"gradC\"] = df[\"A\"]*df[\"ccos\"]*n*6.28\n",
    "    df[\"grad\"]  =np.sqrt(df[\"gradA\"]**2+df[\"gradC\"]**2)\n",
    "    # df[\"value\"] = df[\"valueOrig\"] + df[\"noise\"]\n",
    "    return df"
   ]
  },
  {
   "cell_type": "markdown",
   "metadata": {},
   "source": [
    "* generate data and reference data"
   ]
  },
  {
   "cell_type": "code",
   "execution_count": null,
   "metadata": {},
   "outputs": [],
   "source": [
    "%%time\n",
    "nPoints=500000; outFraction=0.0; n_jobs=16;stdIn=0.2; n=2\n",
    "df   =generateF1(nPoints, n=n, outFraction=outFraction,stdIn=stdIn)\n",
    "dfRef=generateF1(nPoints, n=n, outFraction=outFraction,stdIn=stdIn)"
   ]
  },
  {
   "cell_type": "markdown",
   "metadata": {},
   "source": [
    "## Make addaptive xgboost fitter and add xgboost for the reducible /irreducible errorr estimate"
   ]
  },
  {
   "cell_type": "code",
   "execution_count": null,
   "metadata": {},
   "outputs": [],
   "source": [
    "%%time\n",
    "varFit = 'value'\n",
    "variableX = ['A', \"B\", \"C\"]\n",
    "paramTrain = {'learning_rate':0.2, 'max_depth':10,\"n_estimators\":200,\"subsample\":0.50,\"coeff_learning_rate\":0.2,\"max_learning_rate\":0.2}\n",
    "xgbErrPDF=MIxgboostErrPDF(paramTrain)\n",
    "xgbErrPDF.fit3Fold(df[variableX].to_numpy(),df[\"value\"].to_numpy(),df[\"value\"])"
   ]
  },
  {
   "cell_type": "code",
   "execution_count": null,
   "metadata": {},
   "outputs": [],
   "source": []
  },
  {
   "cell_type": "code",
   "execution_count": null,
   "metadata": {},
   "outputs": [],
   "source": [
    "%%time\n",
    "xgbErrPDF.fitReducible()"
   ]
  },
  {
   "cell_type": "markdown",
   "metadata": {},
   "source": [
    "## Export residuals, error estimates, pulls  "
   ]
  },
  {
   "cell_type": "code",
   "execution_count": null,
   "metadata": {},
   "outputs": [],
   "source": [
    "%%time\n",
    "if xgbErrPDF.earlyStop<=0:\n",
    "    ir=(0,0)\n",
    "    xgbErrPDF.earlyStop=xgbErrPDF.regXGBFac[0]._get_iteration_range(ir)[1]\n",
    "earlyStop=xgbErrPDF.earlyStop\n",
    "\n",
    "for iSample in [0,1,2]: \n",
    "    x=xgbErrPDF.predictStat(df[variableX].to_numpy(),{},iSample,0,(earlyStop//2,earlyStop),0)\n",
    "    y=xgbErrPDF.predictStat(df[variableX].to_numpy(),{},iSample,1,(earlyStop,earlyStop+95),0)\n",
    "    df[f\"stdN{iSample}\"]=x[\"stdN\"]\n",
    "    df[f\"stdNR{iSample}\"]=y[\"stdN\"]\n",
    "    xP=xgbErrPDF.regXGBFac[iSample].predict(df[variableX].to_numpy())\n",
    "    yP=xgbErrPDF.regXGBFacRed[iSample].predict(df[variableX].to_numpy())\n",
    "    df[f\"meanR{iSample}\"]=yP\n",
    "    df[f\"deltaOrigN{iSample}\"]=xP-df[\"valueOrig\"]\n",
    "    df[f\"deltaOrigNR{iSample}\"]=yP-df[\"valueOrig\"]"
   ]
  },
  {
   "cell_type": "code",
   "execution_count": null,
   "metadata": {},
   "outputs": [],
   "source": [
    "df[\"stdNR\"]=(df[\"stdNR0\"]+df[\"stdNR1\"]+df[\"stdNR2\"])/3.\n",
    "df[\"meanR\"]=(df[\"meanR0\"]+df[\"meanR1\"]+df[\"meanR2\"])/3."
   ]
  },
  {
   "cell_type": "code",
   "execution_count": null,
   "metadata": {},
   "outputs": [],
   "source": [
    "stdDiff0={}\n",
    "stdDiffOrig={}\n",
    "\n",
    "for i in [0,1,2]: \n",
    "    stdDiff0[i]=(df[f\"meanR{i}\"]-df[f\"meanR{(i+1)%3}\"]).std()/np.sqrt(2.)\n",
    "    stdDiffOrig[i]=(df[f\"meanR{i}\"]-df[f\"valueOrig\"]).std()\n",
    "    df[f\"stdNorm{i}\"]=df[f\"stdNR{i}\"]*stdDiff0[i]\n",
    "\n",
    "stdDiff0[3]= ((stdDiff0[0]+stdDiff0[1]+stdDiff0[2])/3)/np.sqrt(3.)\n",
    "df[f\"stdNorm\"]=df[f\"stdNR\"]*stdDiff0[3]\n",
    "#std01=(df[f\"meanR0\"]-df[f\"valueOrig\"]).std()\n",
    "print(stdDiff0,stdDiffOrig)"
   ]
  },
  {
   "cell_type": "code",
   "execution_count": null,
   "metadata": {},
   "outputs": [],
   "source": [
    "df[\"deltaOrigNR\"]=(df[\"deltaOrigNR0\"]+df[\"deltaOrigNR1\"]+df[\"deltaOrigNR2\"])/3\n",
    "df[\"pullNR0\"]=df[\"deltaOrigNR0\"]/(df[\"stdNR0\"]*stdDiff0[0])\n",
    "df[\"pullNR\"]=df[\"deltaOrigNR\"]/(df[\"stdNR\"]*stdDiff0[3])\n",
    "#\n",
    "df[\"deltaNR0_1\"]=df[\"meanR0\"]-df[\"meanR1\"]\n",
    "df[\"deltaNR0_12\"]=df[\"meanR0\"]-(df[\"meanR1\"]+df[\"meanR2\"])*0.5\n",
    "df[\"pullNR0_1\"]=(df[\"deltaNR0_1\"])/(np.sqrt(2.*3.)*df[\"stdNorm\"])\n",
    "df[\"pullNR0_12\"]=df[\"deltaNR0_12\"]/(np.sqrt(1.5*3.)*df[\"stdNorm\"])"
   ]
  },
  {
   "cell_type": "markdown",
   "metadata": {},
   "source": [
    "## Static visualization"
   ]
  },
  {
   "cell_type": "code",
   "execution_count": null,
   "metadata": {},
   "outputs": [],
   "source": [
    "df.query(\"A>0.9\").plot.scatter(x=[\"stdNR0\"],y=[\"stdNR1\"],figsize=(8, 5),grid=True)\n",
    "df.query(\"A>0\").plot.scatter(x=[\"stdNR\"],y=[\"deltaOrigNR\"],figsize=(8, 5),grid=True)"
   ]
  },
  {
   "cell_type": "markdown",
   "metadata": {},
   "source": [
    "# Make interactive visulization usig RootInteractive"
   ]
  },
  {
   "cell_type": "markdown",
   "metadata": {},
   "source": [
    "* make widgets"
   ]
  },
  {
   "cell_type": "code",
   "execution_count": null,
   "metadata": {},
   "outputs": [],
   "source": [
    "parameterArray = [\n",
    "    {\"name\": \"colorZT0\", \"value\":\"A\", \"options\":[\"A\",\"B\",\"C\",\"csin\",\"stdNR0\",\"stdNR\"]},\n",
    "    {\"name\": \"markerSize\", \"value\":4, \"range\":[0, 15]},\n",
    "    {\"name\": \"legendFontSize\", \"value\":\"11px\", \"options\":['3px','4px','5px','7px',\"9px\", \"11px\", \"13px\", \"15px\", \"17px\", \"19px\"]},\n",
    "    {\"name\": \"legendLocation\", \"value\":\"top_right\", \"options\":[\"top_right\",\"top_left\", \"bottom_right\",\"bottom_left\"]},\n",
    "    {\"name\": \"nPoints\", \"range\":[0, 2000], \"value\": 200}\n",
    "]\n",
    "\n",
    "widgetParams = [\n",
    "    ['select',[\"colorZT0\"], {\"callback\": \"parameter\", \"default\": 0}],\n",
    "    ['slider',[\"markerSize\"], {\"callback\": \"parameter\"}],\n",
    "    ['select',[\"legendFontSize\"], {\"callback\": \"parameter\", \"default\": 2}],\n",
    "    ['select',[\"legendLocation\"], {\"callback\": \"parameter\", \"default\": 0}],\n",
    "    ['slider', ['nPoints']],\n",
    "    # variables\n",
    "    ['range', ['A']],\n",
    "    ['range', ['B']],\n",
    "    ['range', ['C']],\n",
    "    ['range', ['csin']],\n",
    "    ['range', ['deltaOrigNR']],\n",
    "    ['range', ['deltaOrigNR0']],\n",
    "    ['range', ['stdNR']],\n",
    "    ['range', ['stdNR0']],\n",
    "    \n",
    "]\n",
    "\n",
    "widgetLayoutDescT0=[  [5,6,7,8], [9,10,11,12], {'sizing_mode':'scale_width',\"legend_visible\":True} ]\n",
    "widgetLayoutDesc={\n",
    "    \"Selection\": widgetLayoutDescT0,\n",
    "    \"Graphics\": [[0,1,2,3,4], {'sizing_mode': 'scale_width'}]\n",
    "}"
   ]
  },
  {
   "cell_type": "code",
   "execution_count": null,
   "metadata": {},
   "outputs": [],
   "source": [
    "histoArray = [\n",
    "    # hisMC \n",
    "    {\"name\": \"hisdeltaOrigNR0_1D\", \"variables\": [\"deltaOrigNR0\"], \"nbins\": 100},\n",
    "    {\"name\": \"hisdeltaOrigNR_1D\", \"variables\": [\"deltaOrigNR\"], \"nbins\": 100},\n",
    "    {\"name\": \"hisPullNR0_1D\", \"variables\": [\"pullNR0\"], \"nbins\": 100,\"range\":[-6,6]},\n",
    "    {\"name\": \"hisPullNR_1D\", \"variables\": [\"pullNR\"], \"nbins\": 100,\"range\":[-6,6]},\n",
    "    #\n",
    "    {\"name\": \"hisdeltaOrigNR0x2D\", \"variables\": [\"deltaOrigNR0\",\"stdNR0\"], \"nbins\": [50,20],\"axis\": [0, 1],},\n",
    "    {\"name\": \"hisdeltaOrigNRx2D\", \"variables\": [\"deltaOrigNR\",\"stdNR\"], \"nbins\": [50,20],\"axis\": [0, 1],},\n",
    "    {\"name\": \"hisPullNR0x2D\", \"variables\": [\"pullNR0\",\"stdNR0\"], \"nbins\": [50,20],\"axis\": [0, 1],},\n",
    "    {\"name\": \"hisPullNRx2D\", \"variables\": [\"pullNR\",\"stdNR\"], \"nbins\": [50,20],\"axis\": [0, 1],},\n",
    "    # histoFold\n",
    "    {\"name\": \"hisdeltaNR0_1_1D\", \"variables\": [\"deltaNR0_1\"], \"nbins\": 100},\n",
    "    {\"name\": \"hisdeltaNR0_12_1D\", \"variables\": [\"deltaNR0_12\"], \"nbins\": 100},\n",
    "    {\"name\": \"hisPullNR0_1_1D\", \"variables\": [\"pullNR0_1\"], \"nbins\": 100,\"range\":[-6,6]},\n",
    "    {\"name\": \"hisPullNR0_12_1D\", \"variables\": [\"pullNR0_12\"], \"nbins\": 100,\"range\":[-6,6]},\n",
    "]"
   ]
  },
  {
   "cell_type": "code",
   "execution_count": null,
   "metadata": {},
   "outputs": [],
   "source": [
    "figureArray = [\n",
    "    # tab 0: deltaOrig 0-8\n",
    "    [['C'], ['valueOrig'], {\"colorZvar\":\"colorZT0\"}],\n",
    "    [['C'], ['deltaOrigNR+valueOrig'], {\"colorZvar\":\"colorZT0\",\"errY\":\"stdNorm\"}],\n",
    "    [['C'], ['deltaOrigNR0'], {\"colorZvar\":\"colorZT0\",\"errY\":\"stdNorm0\"}],\n",
    "    [['C'], ['deltaOrigNR'], {\"colorZvar\":\"colorZT0\",\"errY\":\"stdNorm\"}],\n",
    "    [['deltaOrigNR0'], ['hisdeltaOrigNR0_1D'],{\"size\":\"markerSize\"}],\n",
    "    [['deltaOrigNR'], ['hisdeltaOrigNR_1D']],\n",
    "    [['pullNR0'], ['hisPullNR0_1D'],{\"size\":\"markerSize\"}],\n",
    "    [['pullNR'], ['hisPullNR_1D']],\n",
    "    [\"tableHisto\", {\"rowwise\": True,\"exclude\": r\".*2D\"}],\n",
    "    # tab 1: pullOrig\n",
    "    [['C'], ['pullNR0'], {\"colorZvar\":\"colorZT0\"}],\n",
    "    [['C'], ['pullNR'], {\"colorZvar\":\"colorZT0\"}],\n",
    "    [['bin_center_1'],['std'],  {\"source\": \"hisdeltaOrigNR0x2D_0\"}],\n",
    "    [ ['bin_center_1'],['std'], {\"source\": \"hisdeltaOrigNRx2D_0\"}],\n",
    "    [['bin_center_1'],['std'],  {\"source\": \"hisPullNR0x2D_0\"}],\n",
    "    [['bin_center_1'],['std'],  {\"source\": \"hisPullNRx2D_0\"}],\n",
    "    # tab2: deltaFold\n",
    "    [['C'], ['meanR'], {\"colorZvar\":\"colorZT0\"}],\n",
    "    [['C'], ['meanR0'], {\"colorZvar\":\"colorZT0\",\"errY\":\"stdNorm\"}],\n",
    "    [['C'], ['deltaNR0_1'], {\"colorZvar\":\"colorZT0\",\"errY\":\"sqrt(2.)*stdNorm0\"}],\n",
    "    [['C'], ['deltaNR0_12'], {\"colorZvar\":\"colorZT0\",\"errY\":\"sqrt(1.5)*stdNorm0\"}],\n",
    "    [['deltaNR0_1'], ['hisdeltaNR0_1_1D'],{\"size\":\"markerSize\"}],\n",
    "    [['deltaNR0_12'], ['hisdeltaNR0_12_1D']],\n",
    "    [['pullNR0_1'], ['hisPullNR0_1_1D'],{\"size\":\"markerSize\"}],\n",
    "    [['pullNR0_12'], ['hisPullNR0_12_1D']],\n",
    "    [\"tableHisto\", {\"rowwise\": True,\"exclude\": r\".*2D\"}],\n",
    "    #\n",
    "    {\"size\":\"markerSize\",\"legend_options\": {\"label_text_font_size\": \"legendFontSize\" , \"location\":\"legendLocation\"}}\n",
    "    \n",
    "]    \n",
    "\n",
    "tooltips = [(\"A\",\"@A\"),(\"C\",\"@C\"),(\"stdNR\",\"@stdNR\"),(\"pullNR\",\"@pullNR\")]\n",
    "#\n",
    "figureLayoutDescT0=[ [0,1,  {'plot_height':110, \"commonX\":0}],     [2,3,  {'plot_height':110, \"commonX\":3}],    \n",
    "                    [4,5,  {'plot_height':110, \"commonX\":4}],  [6,7,  {'plot_height':110, \"commonX\":6}], [8 , {'plot_height':30}],   {'sizing_mode':'scale_width',\"legend_visible\":True}]\n",
    "figureLayoutDescT1=[ [9,10,  {'plot_height':150, \"commonX\":9}],     [11,12,  {'plot_height':150, \"commonX\":11}],    \n",
    "                    [13,14,  {'plot_height':150, \"commonX\":13}],     {'sizing_mode':'scale_width',\"legend_visible\":True}]\n",
    "figureLayoutDescT2=[ [15,16,  {'plot_height':110, \"commonX\":15}],     [17,18,  {'plot_height':110, \"commonX\":17}],    \n",
    "                    [19,20,  {'plot_height':110, \"commonX\":19}],  [21,22,  {'plot_height':110, \"commonX\":21}],  [23 , {'plot_height':30}],  {'sizing_mode':'scale_width',\"legend_visible\":True}]\n",
    "\n",
    "#\n",
    "figureLayoutDesc={\n",
    "    \"xgboost ΔMC tab\": figureLayoutDescT0,\n",
    "    \"xgboost pullMC tab\": figureLayoutDescT1,\n",
    "    \"xgboost ΔFold tab\": figureLayoutDescT2,\n",
    "}\n",
    "output_file(f\"MIxgboostErrPDF_n{n}_stdIn{stdIn}_nPoints{nPoints}.html\")\n",
    "\n",
    "arrayCompressionRelative8=[(\".*\",[(\"relative\",8), (\"code\",0), (\"zip\",0), (\"base64\",0)])]\n",
    "#figC=bokehDrawSA.fromArray(df, \"A>0\", figureArray, widgetParams,layout=figureLayoutDesc,tooltips=tooltips,sizing_mode='scale_width',widgetLayout=widgetLayoutDesc,nPointRender=2000,\n",
    "#                           rescaleColorMapper=True,arrayCompression=arrayCompressionRelative8,histogramArray=histoArray,parameterArray=parameterArray)\n",
    "figC=bokehDrawSA.fromArray(df, \"stdNR0>0.5&stdNR>0.6\", figureArray, widgetParams,layout=figureLayoutDesc,tooltips=tooltips,sizing_mode='scale_width',widgetLayout=widgetLayoutDesc,nPointRender=\"nPoints\",\n",
    "                           rescaleColorMapper=True,arrayCompression=arrayCompressionRelative8,parameterArray=parameterArray,histogramArray=histoArray)\n"
   ]
  },
  {
   "cell_type": "code",
   "execution_count": null,
   "metadata": {},
   "outputs": [],
   "source": [
    "df[\"deltaNR0_12\"]"
   ]
  },
  {
   "cell_type": "markdown",
   "metadata": {},
   "source": [
    "# Backup"
   ]
  },
  {
   "cell_type": "code",
   "execution_count": null,
   "metadata": {},
   "outputs": [],
   "source": []
  }
 ],
 "metadata": {
  "kernelspec": {
   "display_name": "Python 3",
   "language": "python",
   "name": "python3"
  },
  "language_info": {
   "codemirror_mode": {
    "name": "ipython",
    "version": 3
   },
   "file_extension": ".py",
   "mimetype": "text/x-python",
   "name": "python",
   "nbconvert_exporter": "python",
   "pygments_lexer": "ipython3",
   "version": "3.8.10"
  }
 },
 "nbformat": 4,
 "nbformat_minor": 2
}

{
 "cells": [
  {
   "cell_type": "markdown",
   "metadata": {},
   "source": [
    "# Analysis of results of the benchmarkRandomForest\n",
    "* 0.) Intialization\n",
    "* 1.) STD of function estimator\n",
    "* 2.) Irreducible(+)Reducible error estimator\n",
    "* 3.) RMSMean statistic estimator"
   ]
  },
  {
   "cell_type": "code",
   "execution_count": null,
   "metadata": {},
   "outputs": [],
   "source": [
    "import pandas as pd\n",
    "import numpy as np\n",
    "import pickle\n",
    "from RootInteractive.InteractiveDrawing.bokeh.bokehDrawSA import *\n",
    "from RootInteractive.MLpipeline.NDFunctionInterface import *\n",
    "from bokeh.io import output_notebook"
   ]
  },
  {
   "cell_type": "code",
   "execution_count": null,
   "metadata": {
    "scrolled": true
   },
   "outputs": [],
   "source": [
    "dfSummary=pickle.load(open( \"dfSummary.pkl\", \"rb\" ))\n",
    "dfSummary=dfSummary.astype(np.float64)\n",
    "dfSummary[\"n_trees\"]=dfSummary[\"group\"]*dfSummary[\"n_groups\"]\n",
    "dfSummary[\"log2NPoints\"]=np.log2(dfSummary[\"nPoints\"])\n",
    "dfSummary[\"sigmaTail\"]=dfSummary[\"sigma\"]*np.sqrt(dfSummary[\"fraction\"]*100.+1.)\n",
    "dfSummary.sample(5)"
   ]
  },
  {
   "cell_type": "code",
   "execution_count": null,
   "metadata": {},
   "outputs": [],
   "source": [
    "widgetParams = [\n",
    "    ['range', ['nPoints']],\n",
    "    ['range', ['sigma']],\n",
    "    ['range', ['fraction']],\n",
    "    ['range', ['sigmaTail']],\n",
    "    ['range', ['group']],\n",
    "    ['range', ['n_groups']],\n",
    "    ['range', ['n_trees']],\n",
    "]\n",
    "widgetLayoutDesc = [[0, 1, 2,3], [4, 5,6], {'sizing_mode': 'scale_width'}]\n",
    "tooltips = [(\"n points\", \"@nPoints\"), (\"sigma\", \"@sigma\"), (\"fraction\", \"@fraction\"), (\"n trees\",\"@n_trees\")]"
   ]
  },
  {
   "cell_type": "markdown",
   "metadata": {},
   "source": [
    "## 1.) STD of function estimator\n",
    "* absolute\n",
    "* normalized to standard RandomForest (mean over trees)\n",
    "* normalized to median RandomForest (mean over trees)"
   ]
  },
  {
   "cell_type": "code",
   "execution_count": null,
   "metadata": {},
   "outputs": [],
   "source": [
    "output_file(\"bennchmarkRandomForest_fdeltaEstimatorsStd.html\")\n",
    "figureArray = [\n",
    "    [[\"log2NPoints\"],[\"fdMeanStd\"], {\"size\": 5, \"colorZvar\": \"sigma\"}],\n",
    "    [[\"log2NPoints\"],[\"fdMedianStd\"], {\"size\": 5, \"colorZvar\": \"sigma\"}],\n",
    "    [[\"log2NPoints\"],[\"fdMeanMedStd\"], {\"size\": 5, \"colorZvar\": \"sigma\"}],\n",
    "    [[\"log2NPoints\"],[\"fdMedMedStd\"], {\"size\": 5, \"colorZvar\": \"sigma\"}],\n",
    "    [[\"log2NPoints\"],[\"fdMeanStd/sigmaTail\"], {\"size\": 5, \"colorZvar\": \"sigma\"}],\n",
    "    [[\"log2NPoints\"],[\"fdMedianStd/sigmaTail\"], {\"size\": 5, \"colorZvar\": \"sigma\"}],\n",
    "    [[\"log2NPoints\"],[\"fdMeanMedStd/sigmaTail\"], {\"size\": 5, \"colorZvar\": \"sigma\"}],\n",
    "    [[\"log2NPoints\"],[\"fdMedMedStd/sigmaTail\"], {\"size\": 5, \"colorZvar\": \"sigma\"}],\n",
    "    [[\"log2NPoints\"],[\"fdMeanStd/fdMeanStd\"], {\"size\": 5, \"colorZvar\": \"sigma\"}],\n",
    "    [[\"log2NPoints\"],[\"fdMedianStd/fdMeanStd\"], {\"size\": 5, \"colorZvar\": \"sigma\"}],\n",
    "    [[\"log2NPoints\"],[\"fdMeanMedStd/fdMeanStd\"], {\"size\": 5, \"colorZvar\": \"sigma\"}],\n",
    "    [[\"log2NPoints\"],[\"fdMedMedStd/fdMeanStd\"], {\"size\": 5, \"colorZvar\": \"sigma\"}],\n",
    "    [[\"log2NPoints\"],[\"fdMeanStd/fdMedianStd\"], {\"size\": 5, \"colorZvar\": \"sigma\"}],\n",
    "    [[\"log2NPoints\"],[\"fdMedianStd/fdMedianStd\"], {\"size\": 5, \"colorZvar\": \"sigma\"}],\n",
    "    [[\"log2NPoints\"],[\"fdMeanMedStd/fdMedianStd\"], {\"size\": 5, \"colorZvar\": \"sigma\"}],\n",
    "    [[\"log2NPoints\"],[\"fdMedMedStd/fdMedianStd\"], {\"size\": 5, \"colorZvar\": \"sigma\"}]\n",
    "]\n",
    "figureLayoutDesc = [\n",
    "        [0, 1, 2, 3,  {\"commonY\": 0, \"commonX\": 0}],\n",
    "        [4, 5, 6, 7,  {\"commonY\": 4, \"commonX\": 0}],\n",
    "        [8, 9, 10, 11,  {\"commonY\": 8, \"commonX\": 0}],\n",
    "        [12, 13, 14, 15,  {\"commonY\": 12, \"commonX\": 0}],\n",
    "        {\"commonX\": 0, 'plot_height': 200, 'sizing_mode': 'scale_width', \"plot_width\": 1800}\n",
    "]\n",
    "fig = bokehDrawSA.fromArray(dfSummary, \"nPoints>0\", figureArray, widgetParams, tooltips=tooltips, layout=figureLayoutDesc,\n",
    "                                widgetLayout=widgetLayoutDesc)"
   ]
  },
  {
   "cell_type": "markdown",
   "metadata": {},
   "source": [
    "## 2.) Irreducible(+)Reducible error estimator"
   ]
  },
  {
   "cell_type": "code",
   "execution_count": null,
   "metadata": {},
   "outputs": [],
   "source": [
    "output_file(\"bennchmarkRandomForest_deltaEstimatorsStdvsExpectation.html\")\n",
    "figureArray = [\n",
    "    [[\"log2NPoints\"],[\"dMeanStd/RMSMean\"], {\"size\": 5, \"colorZvar\": \"sigmaTail\"}],\n",
    "    [[\"sigmaTail\"],[\"dMeanStd/RMSMean\"], {\"size\": 5, \"colorZvar\": \"nPoints\"}],\n",
    "    [[\"log2NPoints\"],[\"dMeanStd/sigmaTail\"], {\"size\": 5, \"colorZvar\": \"sigma\"}],\n",
    "    [[\"log2NPoints\"],[\"RMSMean/sigmaTail\"], {\"size\": 5, \"colorZvar\": \"sigma\"}],\n",
    "    [[\"sigmaTail\"],[\"dMeanStd\"], {\"size\": 5, \"colorZvar\": \"sigma\"}],\n",
    "]  \n",
    "figureLayoutDesc = [\n",
    "        [0,1],\n",
    "        [2,3],\n",
    "        [4],\n",
    "    {'plot_height': 250, 'sizing_mode': 'scale_width', \"plot_width\": 1800}\n",
    "]\n",
    "fig = bokehDrawSA.fromArray(dfSummary, \"nPoints>0\", figureArray, widgetParams, tooltips=tooltips, layout=figureLayoutDesc,\n",
    "                                widgetLayout=widgetLayoutDesc)"
   ]
  },
  {
   "cell_type": "markdown",
   "metadata": {},
   "source": [
    "## 3.) RMSMean statistic estimator"
   ]
  },
  {
   "cell_type": "code",
   "execution_count": null,
   "metadata": {},
   "outputs": [],
   "source": [
    "output_file(\"bennchmarkRandomForest_fdeltaEstimatorsStdvsExpectation.html\")\n",
    "figureArray = [\n",
    "    [[\"log2NPoints\"],[\"log(fdMeanStd/sigmaTail)\"], {\"size\": 5, \"colorZvar\": \"sigma\"}],\n",
    "    [[\"log2NPoints\"],[\"log(RMSMeanMean*sqrt(group)/sigmaTail)\"], {\"size\": 5, \"colorZvar\": \"sigma\"}],\n",
    "    [[\"log2NPoints\"],[\"log(fdMeanStd/(RMSMeanMean*sqrt(group)))\"], {\"size\": 5, \"colorZvar\": \"sigma\"}],\n",
    "    [[\"log2NPoints\"],[\"(fdMeanStd/sigmaTail)\"], {\"size\": 5, \"colorZvar\": \"sigma\"}],\n",
    "    [[\"log2NPoints\"],[\"(RMSMeanMean*sqrt(group)/sigmaTail)\"], {\"size\": 5, \"colorZvar\": \"sigma\"}],\n",
    "    [[\"log2NPoints\"],[\"(fdMeanStd/(RMSMeanMean*sqrt(group)))\"], {\"size\": 5, \"colorZvar\": \"sigma\"}],\n",
    "    [[\"log2NPoints\"],[\"(RMSMean/(RMSMeanMean*sqrt(group)))\"], {\"size\": 5, \"colorZvar\": \"sigmaTail\"}],\n",
    "    [[\"RMSMean\"],[\"(RMSMeanMean*sqrt(group))\"], {\"size\": 5, \"colorZvar\": \"sigmaTail\"}],\n",
    "]  \n",
    "figureLayoutDesc = [\n",
    "        [0,1,2],\n",
    "        [3,4,5],\n",
    "        [6,7],\n",
    "    {'plot_height': 250, 'sizing_mode': 'scale_width', \"plot_width\": 1800}\n",
    "]\n",
    "fig = bokehDrawSA.fromArray(dfSummary, \"nPoints>0\", figureArray, widgetParams, tooltips=tooltips, layout=figureLayoutDesc,\n",
    "                                widgetLayout=widgetLayoutDesc)"
   ]
  },
  {
   "cell_type": "code",
   "execution_count": null,
   "metadata": {},
   "outputs": [],
   "source": []
  }
 ],
 "metadata": {
  "kernelspec": {
   "display_name": "Python 3",
   "language": "python",
   "name": "python3"
  },
  "language_info": {
   "codemirror_mode": {
    "name": "ipython",
    "version": 3
   },
   "file_extension": ".py",
   "mimetype": "text/x-python",
   "name": "python",
   "nbconvert_exporter": "python",
   "pygments_lexer": "ipython3",
   "version": "3.6.9"
  }
 },
 "nbformat": 4,
 "nbformat_minor": 4
}

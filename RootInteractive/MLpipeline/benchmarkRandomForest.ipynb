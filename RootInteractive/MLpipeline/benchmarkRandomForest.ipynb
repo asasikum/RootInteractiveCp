{
 "cells": [
  {
   "cell_type": "markdown",
   "metadata": {},
   "source": [
    "# Analysis of results of the benchmarkRandomForest\n",
    "* 0.) Intialization\n",
    "* 1.) STD of function estimator\n",
    "* 2.) Irreducible(+)Reducible error estimator\n",
    "* 3.) RMSMean statistic estimator"
   ]
  },
  {
   "cell_type": "code",
   "execution_count": null,
   "metadata": {},
   "outputs": [],
   "source": [
    "import pandas as pd\n",
    "import numpy as np\n",
    "import pickle\n",
    "from RootInteractive.InteractiveDrawing.bokeh.bokehDrawSA import *\n",
    "from RootInteractive.MLpipeline.NDFunctionInterface import *\n",
    "from bokeh.io import output_notebook\n",
    "import seaborn as sns"
   ]
  },
  {
   "cell_type": "code",
   "execution_count": null,
   "metadata": {
    "scrolled": true
   },
   "outputs": [],
   "source": [
    "dfSummary=pickle.load(open( \"dfSummary.pkl\", \"rb\" ))\n",
    "dfSummary=dfSummary.astype(np.float64)\n",
    "dfSummary[\"n_trees\"]=dfSummary[\"group\"]*dfSummary[\"n_groups\"]\n",
    "dfSummary[\"log2NPoints\"]=np.log2(dfSummary[\"nPoints\"])\n",
    "dfSummary[\"sigmaTail\"]=dfSummary[\"sigma\"]*np.sqrt(dfSummary[\"fraction\"]*100.+1.)\n",
    "dfSummary.sample(5)"
   ]
  },
  {
   "cell_type": "code",
   "execution_count": null,
   "metadata": {},
   "outputs": [],
   "source": [
    "widgetParams = [\n",
    "    ['range', ['nPoints']],\n",
    "    ['range', ['sigma']],\n",
    "    ['range', ['fraction']],\n",
    "    ['range', ['sigmaTail']],\n",
    "    ['range', ['group']],\n",
    "    ['range', ['n_groups']],\n",
    "    ['range', ['n_trees']],\n",
    "]\n",
    "widgetLayoutDesc = [[0, 1, 2,3], [4, 5,6], {'sizing_mode': 'scale_width'}]\n",
    "tooltips = [(\"n points\", \"@nPoints\"), (\"sigma\", \"@sigma\"), (\"fraction\", \"@fraction\"), (\"n trees\",\"@n_trees\")]"
   ]
  },
  {
   "cell_type": "markdown",
   "metadata": {},
   "source": [
    "## 1.) STD of function estimator\n",
    "* absolute\n",
    "* normalized to standard RandomForest (mean over trees)\n",
    "* normalized to median RandomForest (mean over trees)"
   ]
  },
  {
   "cell_type": "code",
   "execution_count": null,
   "metadata": {},
   "outputs": [],
   "source": [
    "output_file(\"bennchmarkRandomForest_fdeltaEstimatorsStd.html\")\n",
    "figureArray = [\n",
    "    [[\"log2NPoints\"],[\"fdMeanStd\"], {\"size\": 5, \"colorZvar\": \"sigma\"}],\n",
    "    [[\"log2NPoints\"],[\"fdMedianStd\"], {\"size\": 5, \"colorZvar\": \"sigma\"}],\n",
    "    [[\"log2NPoints\"],[\"fdMeanMedStd\"], {\"size\": 5, \"colorZvar\": \"sigma\"}],\n",
    "    [[\"log2NPoints\"],[\"fdMedMedStd\"], {\"size\": 5, \"colorZvar\": \"sigma\"}],\n",
    "    [[\"log2NPoints\"],[\"fdMeanStd/sigmaTail\"], {\"size\": 5, \"colorZvar\": \"sigma\"}],\n",
    "    [[\"log2NPoints\"],[\"fdMedianStd/sigmaTail\"], {\"size\": 5, \"colorZvar\": \"sigma\"}],\n",
    "    [[\"log2NPoints\"],[\"fdMeanMedStd/sigmaTail\"], {\"size\": 5, \"colorZvar\": \"sigma\"}],\n",
    "    [[\"log2NPoints\"],[\"fdMedMedStd/sigmaTail\"], {\"size\": 5, \"colorZvar\": \"sigma\"}],\n",
    "    [[\"log2NPoints\"],[\"fdMeanStd/fdMeanStd\"], {\"size\": 5, \"colorZvar\": \"sigma\"}],\n",
    "    [[\"log2NPoints\"],[\"fdMedianStd/fdMeanStd\"], {\"size\": 5, \"colorZvar\": \"sigma\"}],\n",
    "    [[\"log2NPoints\"],[\"fdMeanMedStd/fdMeanStd\"], {\"size\": 5, \"colorZvar\": \"sigma\"}],\n",
    "    [[\"log2NPoints\"],[\"fdMedMedStd/fdMeanStd\"], {\"size\": 5, \"colorZvar\": \"sigma\"}],\n",
    "    [[\"log2NPoints\"],[\"fdMeanStd/fdMedianStd\"], {\"size\": 5, \"colorZvar\": \"sigma\"}],\n",
    "    [[\"log2NPoints\"],[\"fdMedianStd/fdMedianStd\"], {\"size\": 5, \"colorZvar\": \"sigma\"}],\n",
    "    [[\"log2NPoints\"],[\"fdMeanMedStd/fdMedianStd\"], {\"size\": 5, \"colorZvar\": \"sigma\"}],\n",
    "    [[\"log2NPoints\"],[\"fdMedMedStd/fdMedianStd\"], {\"size\": 5, \"colorZvar\": \"sigma\"}]\n",
    "]\n",
    "figureLayoutDesc = [\n",
    "        [0, 1, 2, 3,  {\"commonY\": 0, \"commonX\": 0}],\n",
    "        [4, 5, 6, 7,  {\"commonY\": 4, \"commonX\": 0}],\n",
    "        [8, 9, 10, 11,  {\"commonY\": 8, \"commonX\": 0}],\n",
    "        [12, 13, 14, 15,  {\"commonY\": 12, \"commonX\": 0}],\n",
    "        {\"commonX\": 0, 'plot_height': 200, 'sizing_mode': 'scale_width', \"plot_width\": 1800}\n",
    "]\n",
    "fig = bokehDrawSA.fromArray(dfSummary, \"nPoints>0\", figureArray, widgetParams, tooltips=tooltips, layout=figureLayoutDesc,\n",
    "                                widgetLayout=widgetLayoutDesc)"
   ]
  },
  {
   "cell_type": "markdown",
   "metadata": {},
   "source": [
    "## 2.) Irreducible(+)Reducible error estimator"
   ]
  },
  {
   "cell_type": "code",
   "execution_count": null,
   "metadata": {},
   "outputs": [],
   "source": [
    "output_file(\"bennchmarkRandomForest_deltaEstimatorsStdvsExpectation.html\")\n",
    "figureArray = [\n",
    "    [[\"log2NPoints\"],[\"dMeanStd/RMSMean\"], {\"size\": 5, \"colorZvar\": \"sigmaTail\"}],\n",
    "    [[\"sigmaTail\"],[\"dMeanStd/RMSMean\"], {\"size\": 5, \"colorZvar\": \"nPoints\"}],\n",
    "    [[\"log2NPoints\"],[\"dMeanStd/sigmaTail\"], {\"size\": 5, \"colorZvar\": \"sigma\"}],\n",
    "    [[\"log2NPoints\"],[\"RMSMean/sigmaTail\"], {\"size\": 5, \"colorZvar\": \"sigma\"}],\n",
    "    [[\"sigmaTail\"],[\"dMeanStd\"], {\"size\": 5, \"colorZvar\": \"sigma\"}],\n",
    "]  \n",
    "figureLayoutDesc = [\n",
    "        [0,1],\n",
    "        [2,3],\n",
    "        [4],\n",
    "    {'plot_height': 250, 'sizing_mode': 'scale_width', \"plot_width\": 1800}\n",
    "]\n",
    "fig = bokehDrawSA.fromArray(dfSummary, \"nPoints>0\", figureArray, widgetParams, tooltips=tooltips, layout=figureLayoutDesc,\n",
    "                                widgetLayout=widgetLayoutDesc)"
   ]
  },
  {
   "cell_type": "markdown",
   "metadata": {},
   "source": [
    "## 3.) RMSMeanMean statistic estimator"
   ]
  },
  {
   "cell_type": "code",
   "execution_count": null,
   "metadata": {},
   "outputs": [],
   "source": [
    "output_file(\"bennchmarkRandomForest_fdeltaEstimatorsStdvsExpectation.html\")\n",
    "figureArray = [\n",
    "    [[\"log2NPoints\"],[\"log(fdMeanStd/sigmaTail)\"], {\"size\": 5, \"colorZvar\": \"sigma\"}],\n",
    "    [[\"log2NPoints\"],[\"log(RMSMeanMean*sqrt(group)/sigmaTail)\"], {\"size\": 5, \"colorZvar\": \"sigma\"}],\n",
    "    [[\"log2NPoints\"],[\"log(fdMeanStd/(RMSMeanMean*sqrt(group)))\"], {\"size\": 5, \"colorZvar\": \"sigma\"}],\n",
    "    [[\"log2NPoints\"],[\"(fdMeanStd/sigmaTail)\"], {\"size\": 5, \"colorZvar\": \"sigma\"}],\n",
    "    [[\"log2NPoints\"],[\"(RMSMeanMean*sqrt(group)/sigmaTail)\"], {\"size\": 5, \"colorZvar\": \"sigma\"}],\n",
    "    [[\"log2NPoints\"],[\"(fdMeanStd/(RMSMeanMean*sqrt(group)))\"], {\"size\": 5, \"colorZvar\": \"sigma\"}],\n",
    "    [[\"log2NPoints\"],[\"(RMSMean/(RMSMeanMean*sqrt(group)))\"], {\"size\": 5, \"colorZvar\": \"sigmaTail\"}],\n",
    "    [[\"RMSMean\"],[\"(RMSMeanMean*sqrt(group))\"], {\"size\": 5, \"colorZvar\": \"sigmaTail\"}],\n",
    "]  \n",
    "figureLayoutDesc = [\n",
    "        [0,1,2],\n",
    "        [3,4,5],\n",
    "        [6,7],\n",
    "    {'plot_height': 250, 'sizing_mode': 'scale_width', \"plot_width\": 1800}\n",
    "]\n",
    "fig = bokehDrawSA.fromArray(dfSummary, \"nPoints>0\", figureArray, widgetParams, tooltips=tooltips, layout=figureLayoutDesc,\n",
    "                                widgetLayout=widgetLayoutDesc)"
   ]
  },
  {
   "cell_type": "markdown",
   "metadata": {},
   "source": [
    "## 4.Sample studies"
   ]
  },
  {
   "cell_type": "code",
   "execution_count": null,
   "metadata": {},
   "outputs": [],
   "source": [
    "widgetParamsS = [\n",
    "    ['range', ['A']],\n",
    "    ['range', ['B']],\n",
    "    ['range', ['C']],\n",
    "    ['range', ['csin']],\n",
    "    ['range', ['expB']],\n",
    "    ['range', ['sigma']],\n",
    "    ['range', ['fraction']],\n",
    "    ['range', ['group']],\n",
    "    ['range', ['n_groups']],\n",
    "    ['range', ['n_trees']]\n",
    "]\n",
    "\n",
    "widgetLayoutDescS = [[0, 1, 2], [3, 4,5,6], [7, 8,9], {'sizing_mode': 'scale_width'}]\n",
    "tooltipsS= [(\"A\", \"@A\"), (\"B\", \"@B\")]"
   ]
  },
  {
   "cell_type": "code",
   "execution_count": null,
   "metadata": {},
   "outputs": [],
   "source": [
    "dfSample=pickle.load(open( \"dfSample.pkl\", \"rb\" ))\n",
    "dfSample=dfSample.astype(np.float64)\n",
    "dfSample[\"n_trees\"]=dfSample[\"group\"]*dfSample[\"n_groups\"]\n",
    "dfSample[\"log2NPoints\"]=np.log2(dfSample[\"nPoints\"])\n",
    "dfSample[\"sigmaTail\"]=dfSample[\"sigma\"]*np.sqrt(dfSample[\"fraction\"]*100.+1.)\n",
    "dfSample[\"afdeltaMed\"]=np.abs(dfSample[\"Median\"]-dfSample[\"valueOrig\"])\n",
    "dfSample[\"afdeltaMean\"]=np.abs(dfSample[\"Mean\"]-dfSample[\"valueOrig\"])\n",
    "dfSample[\"adeltaMed\"]=np.abs(dfSample[\"Median\"]-dfSample[\"value\"])\n",
    "dfSample[\"adeltaMean\"]=np.abs(dfSample[\"Mean\"]-dfSample[\"value\"])\n",
    "dfSample=dfSample.query(\"n_groups>5\")\n",
    "display(dfSample.sample(5))\n",
    "dfSample.columns"
   ]
  },
  {
   "cell_type": "code",
   "execution_count": null,
   "metadata": {},
   "outputs": [],
   "source": [
    "output_file(\"bennchmarkRandomForest_fdeltaEstimatorsStdvsExpectationSample.html\")\n",
    "figureArray = [\n",
    "    [[\"RMSMean\"],[\"Mean-valueOrig\"], {\"size\": 5, \"colorZvar\": \"sigma\"}],\n",
    "    [[\"RMSMean\"],[\"Median-valueOrig\"], {\"size\": 5, \"colorZvar\": \"sigma\"}],\n",
    "    [[\"sigma\"],[\"RMSMedian\"], {\"size\": 5, \"colorZvar\": \"fraction\"}],\n",
    "    [[\"sigmaTail\"],[\"RMSMedian\"], {\"size\": 5, \"colorZvar\": \"fraction\"}],\n",
    "    [[\"ccos*expB\"],[\"RMSMedian\"], {\"size\": 5, \"colorZvar\": \"sigma\"}],\n",
    "]  \n",
    "figureLayoutDesc = [\n",
    "        [0,1, {\"commonX\": 0, \"commonY\": 0}],\n",
    "        [2,3,4, {\"commonY\": 0}],\n",
    "        \n",
    "    { 'plot_height': 300, 'sizing_mode': 'scale_width', \"plot_width\": 1800}\n",
    "]\n",
    "fig = bokehDrawSA.fromArray(dfSample.sample(10000), \"RMS>0\", figureArray, widgetParamsS, tooltips=tooltipsS, layout=figureLayoutDesc,\n",
    "                                widgetLayout=widgetLayoutDescS)"
   ]
  },
  {
   "cell_type": "code",
   "execution_count": null,
   "metadata": {},
   "outputs": [],
   "source": [
    "dfSampleS=dfSample.query(\"n_groups>20\")\n",
    "sns.regplot(x=dfSampleS[\"RMSMean\"], y=dfSampleS[\"afdeltaMean\"], x_bins=20, fit_reg=None, label=\"Mean\",x_estimator=np.mean)\n",
    "sns.regplot(x=dfSampleS[\"RMSMean\"], y=dfSampleS[\"afdeltaMed\"], x_bins=20, fit_reg=None,  label=\"Median\",x_estimator=np.mean)"
   ]
  },
  {
   "cell_type": "code",
   "execution_count": null,
   "metadata": {},
   "outputs": [],
   "source": [
    "dfSampleS=dfSample.query(\"n_groups>20\")\n",
    "sns.regplot(x=dfSampleS[\"RMSMean\"], y=dfSampleS[\"adeltaMean\"], x_bins=20, fit_reg=None, label=\"Mean\",x_estimator=np.mean)\n",
    "sns.regplot(x=dfSampleS[\"RMSMean\"], y=dfSampleS[\"adeltaMed\"], x_bins=20, fit_reg=None,  label=\"Median\",x_estimator=np.mean)"
   ]
  },
  {
   "cell_type": "code",
   "execution_count": null,
   "metadata": {},
   "outputs": [],
   "source": [
    "sns.regplot(x=dfSample[\"RMSMean\"], y=dfSample[\"afdeltaMeanNorm\"], x_bins=20, fit_reg=None, label=\"Mean\",x_estimator=np.mean)\n",
    "sns.regplot(x=dfSample[\"RMSMean\"], y=dfSample[\"afdeltaMedNorm\"], x_bins=20, fit_reg=None,  label=\"Median\",x_estimator=np.mean)"
   ]
  },
  {
   "cell_type": "markdown",
   "metadata": {},
   "source": [
    "### Local error estimator for fixed input smearing"
   ]
  },
  {
   "cell_type": "code",
   "execution_count": null,
   "metadata": {},
   "outputs": [],
   "source": [
    "dfSampleS0=dfSampleS.query(\"sigma==0.1&fraction==0\")\n",
    "sns.regplot(x=dfSampleS0[\"RMSMean\"], y=dfSampleS0[\"afdeltaMean\"], x_bins=20, fit_reg=None, label=\"Mean\",x_estimator=np.mean)\n",
    "sns.regplot(x=dfSampleS0[\"RMSMean\"], y=dfSampleS0[\"afdeltaMed\"], x_bins=20, fit_reg=None,  label=\"Median\",x_estimator=np.mean)"
   ]
  },
  {
   "cell_type": "code",
   "execution_count": null,
   "metadata": {},
   "outputs": [],
   "source": [
    "sns.regplot(x=np.abs(dfSampleS0[\"ccos\"])*dfSampleS0[\"expB\"], y=dfSampleS0[\"adeltaMean\"], x_bins=20, fit_reg=None,x_estimator=np.mean)\n",
    "sns.regplot(x=np.abs(dfSampleS0[\"ccos\"])*dfSampleS0[\"expB\"], y=dfSampleS0[\"adeltaMean\"], x_bins=20, fit_reg=None,x_estimator=np.mean)"
   ]
  },
  {
   "cell_type": "code",
   "execution_count": null,
   "metadata": {},
   "outputs": [],
   "source": []
  }
 ],
 "metadata": {
  "kernelspec": {
   "display_name": "Python 3",
   "language": "python",
   "name": "python3"
  },
  "language_info": {
   "codemirror_mode": {
    "name": "ipython",
    "version": 3
   },
   "file_extension": ".py",
   "mimetype": "text/x-python",
   "name": "python",
   "nbconvert_exporter": "python",
   "pygments_lexer": "ipython3",
   "version": "3.6.9"
  }
 },
 "nbformat": 4,
 "nbformat_minor": 4
}

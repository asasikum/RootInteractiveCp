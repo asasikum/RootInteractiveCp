{
 "cells": [
  {
   "cell_type": "markdown",
   "metadata": {},
   "source": [
    "# TTree interactive browsing\n",
    "* This is prototype written as a  \"macro\" set of function\n",
    "  * example not yet finished\n",
    "** Direct usage of ROOT and AliROOT libSTAT functionality\n",
    "* Functionality to be encapuslated\n",
    "* Functions:\n",
    "  * Init \"libraries\"\n",
    "  * Load tree\n",
    "  * Load widgets\n",
    "  * Draw widgets\n",
    "* Example using tracking performance parameterization \n"
   ]
  },
  {
   "cell_type": "markdown",
   "metadata": {},
   "source": [
    "# Init tree browsing \n",
    "* Load widgets for interaction with root objects\n",
    "* Enable ROOT\n",
    "* Load AliROOT libStat"
   ]
  },
  {
   "cell_type": "markdown",
   "metadata": {},
   "source": []
  },
  {
   "cell_type": "code",
   "execution_count": null,
   "metadata": {},
   "outputs": [],
   "source": [
    "from __future__ import print_function\n",
    "from ipywidgets import interact, interactive, fixed, interact_manual\n",
    "import ipywidgets as widgets\n",
    "from ipywidgets import Button, Layout\n",
    "import numpy as np\n",
    "from IPython.display import display\n",
    "import ROOT\n",
    "from RootInteractive.Tools.aliTreePlayer import *\n",
    "ROOT.gSystem.Load(\"$ALICE_ROOT/lib/libSTAT.so\")\n",
    "%jsroot"
   ]
  },
  {
   "cell_type": "code",
   "execution_count": null,
   "metadata": {},
   "outputs": [],
   "source": [
    "c1=ROOT.TCanvas(\"c1\",\"c1\",600,400);"
   ]
  },
  {
   "cell_type": "markdown",
   "metadata": {},
   "source": [
    "### Load trees from the list (e.g.)\n",
    "* Load example trees for the TRD tracking comissioning\n",
    "  * pt spectra and covaraince matrix of q/pt for 2 differnt reconstruction passes + anchor MC\n",
    "  * 3 different trigger configuration (TMB, TCalo, TEJ1)\n",
    "  * 3 differnt covariance matrix cut (05,15,30)\n",
    "  * 3 different pt depenedent cut on the number of TPC crossed rows (80,100,120)\n",
    "  *  different pt depenedent cut on the number of TPC crossed rows + TRD clusters(80,100,120)\n",
    "* Total  120 trees "
   ]
  },
  {
   "cell_type": "code",
   "execution_count": null,
   "metadata": {},
   "outputs": [],
   "source": [
    "tree, treeList, fileList = LoadTrees(\"cat mapLong.list\",\"his.*_proj_0_1Dist\",\"$#\",\".*\",0)\n",
    "tree.SetAlias(\"medianMean\",\"median-mean\")\n",
    "friendListROOT = tree.GetListOfFriends();\n",
    "branchListROOT = tree.GetListOfBranches();\n",
    "aliasListROOT = tree.GetListOfAliases();"
   ]
  },
  {
   "cell_type": "markdown",
   "metadata": {},
   "source": [
    "### Load list of friends, branches and aliases\n",
    "* To do  - add protection ageain 0 pointers "
   ]
  },
  {
   "cell_type": "code",
   "execution_count": null,
   "metadata": {},
   "outputs": [],
   "source": [
    "friendList=['']\n",
    "branchList=[]\n",
    "aliasList=['']\n",
    "sliderWidgets=[]\n",
    "friendMask='.*05.*TMB.*'\n",
    "branchMask='.*rms.*'\n",
    "print('Total number of trees',tree.GetListOfFriends().GetEntries());\n",
    "print('Selecting subset of friends', friendMask)"
   ]
  },
  {
   "cell_type": "code",
   "execution_count": null,
   "metadata": {},
   "outputs": [],
   "source": [
    "friendMaskWidget=widgets.Text(description='Friend mask', value=friendMask);\n",
    "branchMaskWidget=widgets.Text(description='Branch mask',value=branchMask);\n",
    "aliasMaskWidget=widgets.Text(description='Alias mask');\n",
    "friendDropDown=widgets.Dropdown( options=friendList, description='Friend list:');\n",
    "branchDropDown=widgets.Dropdown( options=branchList, description='Branch list:');\n",
    "aliasDropDown=widgets.Dropdown( options=aliasList, description='Alias list:');\n",
    "maskButton=widgets.Button(description='Mask',tooltip=\"Mask\");\n",
    "addQueryButton=widgets.Button(description='Add Query',tooltip=\"Add query\");\n",
    "addSelectionButton=widgets.Button(description='Add selection',tooltip=\"Add selection\");\n",
    "addSliderButton=widgets.Button(description='Add slider',tooltip=\"Add slider\");\n",
    "#\n",
    "drawQuery=widgets.Text(description='Query',layout=Layout(width='99%'));\n",
    "drawCut=widgets.Text(description='Selection',layout=Layout(width='99%'));\n",
    "drawSlider=widgets.Text(description='Slider',layout=Layout(width='99%'));"
   ]
  },
  {
   "cell_type": "code",
   "execution_count": null,
   "metadata": {},
   "outputs": [],
   "source": [
    "def funUpdateList():\n",
    "    #friendMask=friendMaskWidget.value\n",
    "    friendMaskReg=ROOT.TPRegexp(friendMask)\n",
    "    branchMaskReg=ROOT.TPRegexp(branchMask)\n",
    "    friendList[:]=['']\n",
    "    for i in range(0,friendListROOT.GetEntries()):\n",
    "        if friendMaskReg.GetPattern().Length() > 0:\n",
    "            if friendMaskReg.Match(friendListROOT.At(i).GetName()):\n",
    "                friendList.append(friendListROOT.At(i).GetName())\n",
    "        else:\n",
    "            friendList.append(friendListROOT.At(i).GetName())\n",
    "    branchList[:]=['']       \n",
    "    for i in range(0,branchListROOT.GetEntries()): \n",
    "        if branchMaskReg.GetPattern().Length() > 0:\n",
    "            if branchMaskReg.Match(branchListROOT.At(i).GetName()):\n",
    "                branchList.append(branchListROOT.At(i).GetName())\n",
    "        else:    \n",
    "            branchList.append(branchListROOT.At(i).GetName())  \n",
    "    for i in range(0,aliasListROOT.GetEntries()): \n",
    "        aliasList.append(aliasListROOT.At(i).GetName())\n",
    "    friendDropDown.options=friendList\n",
    "    branchDropDown.options=branchList\n",
    "def funAddQuery(b): \n",
    "    drawQuery.value+=friendDropDown.value\n",
    "    drawQuery.value+='.'\n",
    "    drawQuery.value+=branchDropDown.value\n",
    "def funAddSelection(b): \n",
    "    drawCut.value+=friendDropDown.value\n",
    "    drawCut.value+='.'\n",
    "    drawCut.value+=branchDropDown.value    \n",
    "def funUpdateMask(b):\n",
    "    global branchMask\n",
    "    global friendMask\n",
    "    branchMask=str(branchMaskWidget.value)\n",
    "    friendMask=str(friendMaskWidget.value)\n",
    "    #print(branchMask)\n",
    "    funUpdateList()"
   ]
  },
  {
   "cell_type": "markdown",
   "metadata": {},
   "source": [
    "## Draw widget"
   ]
  },
  {
   "cell_type": "code",
   "execution_count": null,
   "metadata": {},
   "outputs": [],
   "source": [
    "funUpdateList()\n",
    "boxMask=widgets.HBox([friendMaskWidget,branchMaskWidget, aliasMaskWidget,maskButton]);\n",
    "boxSelect=widgets.HBox([friendDropDown,branchDropDown, aliasDropDown]);\n",
    "boxButton=widgets.HBox([addQueryButton,addSelectionButton,addSliderButton]);\n",
    "boxDraw=widgets.VBox([drawQuery,drawCut,drawSlider], width=1000);\n",
    "boxSlider=widgets.VBox(sliderWidgets);\n",
    "#\n",
    "boxAll=widgets.VBox([boxMask,boxSelect,boxButton,boxDraw,boxSlider])\n",
    "#\n",
    "addQueryButton.on_click(funAddQuery)\n",
    "addSelectionButton.on_click(funAddSelection)\n",
    "maskButton.on_click(funUpdateMask)\n",
    "branchMaskWidget.observe(funUpdateMask,branchMaskWidget.value) # looks liek not working\n",
    "boxAll\n"
   ]
  },
  {
   "cell_type": "markdown",
   "metadata": {},
   "source": [
    "# Debugging part\n",
    "* printing widget content\n"
   ]
  },
  {
   "cell_type": "code",
   "execution_count": null,
   "metadata": {},
   "outputs": [],
   "source": [
    "branchMask='.*rms.*'\n",
    "print(branchMask)\n",
    "print(branchMaskWidget)\n",
    "funUpdateMask(maskButton)\n",
    "print(branchMask)"
   ]
  },
  {
   "cell_type": "code",
   "execution_count": null,
   "metadata": {},
   "outputs": [],
   "source": [
    "branchMask='xxx'\n",
    "print(branchMaskWidget)\n",
    "print(branchMask)\n",
    "branchMaskReg=ROOT.TPRegexp(branchMask)\n",
    "branchMask=str(branchMaskWidget.value)\n",
    "print(branchMask)\n",
    "branchMaskReg=ROOT.TPRegexp(branchMask)\n"
   ]
  },
  {
   "cell_type": "code",
   "execution_count": null,
   "metadata": {},
   "outputs": [],
   "source": [
    "tree.Show(0)"
   ]
  },
  {
   "cell_type": "code",
   "execution_count": null,
   "metadata": {},
   "outputs": [],
   "source": []
  }
 ],
 "metadata": {
  "kernelspec": {
   "display_name": "Python 2",
   "language": "python",
   "name": "python2"
  },
  "language_info": {
   "codemirror_mode": {
    "name": "ipython",
    "version": 3
   },
   "file_extension": ".py",
   "mimetype": "text/x-python",
   "name": "python",
   "nbconvert_exporter": "python",
   "pygments_lexer": "ipython3",
   "version": "3.6.8"
  }
 },
 "nbformat": 4,
 "nbformat_minor": 2
}

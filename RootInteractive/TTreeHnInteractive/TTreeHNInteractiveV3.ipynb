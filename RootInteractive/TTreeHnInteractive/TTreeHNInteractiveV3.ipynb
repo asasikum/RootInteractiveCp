{
 "cells": [
  {
   "cell_type": "code",
   "execution_count": null,
   "metadata": {},
   "outputs": [],
   "source": [
    "from TTreeHnBrowser import *\n",
    "import matplotlib.pyplot as plt\n",
    "from RootInteractive.Tools.aliTreePlayer import *\n",
    "%matplotlib inline\n",
    "output_notebook()\n",
    "#%matplotlib notebook"
   ]
  },
  {
   "cell_type": "code",
   "execution_count": null,
   "metadata": {},
   "outputs": [],
   "source": [
    "info = ROOT.AliExternalInfo()\n",
    "info.fVerbose = 0\n",
    "tree = info.GetTree(\"QA.TPC\", \"LHC15o\", \"cpass1_pass1\")"
   ]
  },
  {
   "cell_type": "code",
   "execution_count": null,
   "metadata": {},
   "outputs": [],
   "source": [
    "treeBrowser = TTreeHnBrowser()\n",
    "out = widgets.Output()   \n",
    "with out:\n",
    "    fig = plt.figure()\n",
    "    ax = fig.add_subplot(1, 1, 1)\n",
    "#https://stackoverflow.com/questions/51601061/jupyter-notebook-duplicated-scatter-plot-using-when-using-ipywidgets\n",
    "def updatePlot(change):\n",
    "    # applyt slider query \n",
    "    df2=treeBrowser.sliderArray.queryDataFrame(treeBrowser.fDataFrame)    \n",
    "    #print(\"New\")\n",
    "    out.clear_output()\n",
    "    with out:\n",
    "        for box in treeBrowser.drawVarArray.fDrawVarWidgets.children:\n",
    "            plot=str(box.children[0].value)\n",
    "            plots=plot.split(\":\")\n",
    "            #print(plots[0],plots[1])\n",
    "            y=df2[plots[0]]\n",
    "            x=df2[plots[1]]\n",
    "            plt.plot(x,y)\n",
    "            plt.show() "
   ]
  },
  {
   "cell_type": "code",
   "execution_count": null,
   "metadata": {},
   "outputs": [],
   "source": [
    "tree, treeList, fileList = LoadTrees(\"cat performance.list\",\"(his.*)\",\"xxx\",\".*\",0)\n",
    "AddMetadata(tree,\"mptCenter.Slider\",\"(0:10:0.1)\")\n",
    "AddMetadata(tree,\"mptCenter.Hint\",\"1/pt (GeV/c)\")\n",
    "AddMetadata(tree,\"thetaCenter.Slider\",\"(-1:1:0.05)\")\n",
    "AddMetadata(tree,\"thetaCenter.Hint\",\"pz/pt\")\n",
    "AddMetadata(tree,\"deltaphiCenter.Slider\",\"(-1:1:0.1)\")\n",
    "AddMetadata(tree,\"deltaPhiCenter.Hint\",\"delta sector\")"
   ]
  },
  {
   "cell_type": "code",
   "execution_count": null,
   "metadata": {},
   "outputs": [],
   "source": [
    "#tree=ROOT.AliTreePlayer.LoadTrees(\"cat mapLong.list\",\"his.*_proj_0_1Dist\",\"$#\",\".*\",\"\",\"\")"
   ]
  },
  {
   "cell_type": "code",
   "execution_count": null,
   "metadata": {},
   "outputs": [],
   "source": [
    "treeBrowser.drawVarArray.addVariables([\"hisTPCLossPionDist.mean:mptCenter\", \"hisTPCLossProtonDist.mean:mptCenter\", \"hisTPCLossKaonDist.mean:mptCenter\", \"hisTPCLossTritonDist.mean:mptCenter\",])\n",
    "treeBrowser.drawSelection.value=\"hisTPCLossKaonDist.entries>10\""
   ]
  },
  {
   "cell_type": "code",
   "execution_count": null,
   "metadata": {},
   "outputs": [],
   "source": [
    "treeBrowser.initTree(tree)   \n",
    "#interact(updatePlot,treeBrowser.drawVarArray.fDrawVarWidgets.children[0].children[0])\n",
    "treeBrowser.sliderArray.fSliderWidgets.children[0].children[0]\n",
    "#interact(updatePlot,x=treeBrowser.sliderArray.fSliderWidgets.children[0].children[0])"
   ]
  },
  {
   "cell_type": "code",
   "execution_count": null,
   "metadata": {},
   "outputs": [],
   "source": [
    "#intplot=interactive(updatePlot,y=treeBrowser.sliderArray.fSliderWidgets.children[0].children[0])\n",
    "treeBrowser.boxAll\n",
    "#intplot"
   ]
  },
  {
   "cell_type": "code",
   "execution_count": null,
   "metadata": {},
   "outputs": [],
   "source": [
    "#display(out)"
   ]
  },
  {
   "cell_type": "code",
   "execution_count": null,
   "metadata": {},
   "outputs": [],
   "source": [
    "out.layout.height='800px'\n",
    "treeBrowser.sliderArray.fSliderWidgets.children[1].children[0].observe(updatePlot, names='value')\n",
    "display(treeBrowser.sliderArray.fSliderWidgets.children[1].children[0])\n",
    "display(treeBrowser.sliderArray.fSliderWidgets.children[2].children[0])\n",
    "display(out)"
   ]
  },
  {
   "cell_type": "code",
   "execution_count": null,
   "metadata": {},
   "outputs": [],
   "source": [
    "treeBrowser.fDataFrame.head(5)"
   ]
  },
  {
   "cell_type": "code",
   "execution_count": null,
   "metadata": {},
   "outputs": [],
   "source": [
    "\n",
    "output_notebook()\n",
    "df2=treeBrowser.sliderArray.queryDataFrame(treeBrowser.fDataFrame)  \n",
    "source = ColumnDataSource(data=treeBrowser.fDataFrame)\n",
    "\n",
    "tools = [\"box_select\", \"hover\", \"reset\"]\n",
    "#p = figure(plot_height=300, plot_width=300, tools=tools)\n",
    "p = figure(plot_height=300, plot_width=600)\n",
    "p.circle(x=\"thetaCenter\", y=\"hisTPCLossPionDist.mean\", size=3, hover_color=\"red\", source=source)\n",
    "show(gridplot([[p]]))"
   ]
  },
  {
   "cell_type": "code",
   "execution_count": null,
   "metadata": {},
   "outputs": [],
   "source": [
    "plotArray=[]\n",
    "#df2[plots[0]]\n",
    "for box in treeBrowser.drawVarArray.fDrawVarWidgets.children:\n",
    "    plot=str(box.children[0].value)\n",
    "    plots=plot.split(\":\")\n",
    "    p = figure(plot_height=300, plot_width=600)\n",
    "    p.circle(x=plots[0], y=plots[1], size=3, hover_color=\"red\", source=source)\n",
    "    plotArray.append(p)\n",
    "show(gridplot([plotArray]))    \n",
    "    \n",
    "    "
   ]
  }
 ],
 "metadata": {
  "extensions": {
   "jupyter_dashboards": {
    "activeView": "grid_default",
    "version": 1,
    "views": {
     "grid_default": {
      "cellMargin": 10,
      "defaultCellHeight": 20,
      "maxColumns": 12,
      "name": "grid",
      "type": "grid"
     },
     "report_default": {
      "name": "report",
      "type": "report"
     }
    }
   }
  },
  "kernelspec": {
   "display_name": "Python 3",
   "language": "python",
   "name": "python3"
  },
  "language_info": {
   "codemirror_mode": {
    "name": "ipython",
    "version": 3
   },
   "file_extension": ".py",
   "mimetype": "text/x-python",
   "name": "python",
   "nbconvert_exporter": "python",
   "pygments_lexer": "ipython3",
   "version": "3.6.8"
  }
 },
 "nbformat": 4,
 "nbformat_minor": 2
}

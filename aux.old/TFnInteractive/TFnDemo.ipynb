{
 "cells": [
  {
   "cell_type": "code",
   "execution_count": null,
   "metadata": {},
   "outputs": [],
   "source": [
    "from __future__ import print_function\n",
    "from ipywidgets import interact, interactive, fixed, interact_manual\n",
    "import ipywidgets as widgets\n",
    "import numpy as np\n",
    "from IPython.display import display"
   ]
  },
  {
   "cell_type": "code",
   "execution_count": null,
   "metadata": {},
   "outputs": [],
   "source": [
    "import ROOT"
   ]
  },
  {
   "cell_type": "code",
   "execution_count": null,
   "metadata": {},
   "outputs": [],
   "source": [
    "%jsroot off"
   ]
  },
  {
   "cell_type": "code",
   "execution_count": null,
   "metadata": {},
   "outputs": [],
   "source": [
    "c1=ROOT.TCanvas(\"c1\",\"c1\",600,400);\n",
    "f1=ROOT.TF1(\"fit1\",\"sin(x*[0])\",0,10);\n",
    "f1.SetParameter(0,1);\n",
    "f1.Draw(\"\");\n",
    "c1.Draw();  "
   ]
  },
  {
   "cell_type": "markdown",
   "metadata": {},
   "source": [
    "def fun(y):\n",
    "    f1.SetParameter(0,y);\n",
    "    f1.Draw(\"\")\n",
    "    c1.Draw();\n",
    "    c1.Update();\n",
    "c1.Draw();\n",
    "interactive_plot=interactive(fun, y=(0.1, 10.0));\n",
    "interactive_plot   "
   ]
  },
  {
   "cell_type": "markdown",
   "metadata": {},
   "source": [
    "## Interactive TF1 -eval"
   ]
  },
  {
   "cell_type": "code",
   "execution_count": null,
   "metadata": {},
   "outputs": [],
   "source": [
    "def funPrint(y):\n",
    "    f1.SetParameter(0,y)\n",
    "    return f1.Eval(0)\n",
    "    \n",
    "interactive_print=interactive(funPrint, y=(0.1, 10.0));\n",
    "interactive_print"
   ]
  },
  {
   "cell_type": "markdown",
   "metadata": {},
   "source": [
    "# Interactive TF1 - drawing"
   ]
  },
  {
   "cell_type": "code",
   "execution_count": null,
   "metadata": {},
   "outputs": [],
   "source": [
    "from ipywidgets import interactive\n",
    "import matplotlib.pyplot as plt\n",
    "import numpy as np\n",
    "def fdraw(y,m):\n",
    "    plt.figure(2)\n",
    "    f1.SetParameter(0,y)\n",
    "    x = np.linspace(-10, 10, num=1000)\n",
    "    yd = np.linspace(-10, 10, num=1000)\n",
    "    for i in range(0, 1000): \n",
    "        yd[i]=f1.Eval(x[i])+m;\n",
    "    plt.plot(x, yd)\n",
    "    plt.ylim(-5, 5)\n",
    "    plt.show()\n",
    "\n",
    "interactive_plot = interactive(fdraw,  y=(-3, 3, 0.5), m=(-3, 3, 0.5) )\n",
    "#output = interactive_plot.children[-1]\n",
    "#output.layout.height = '350px'\n",
    "interactive_plot"
   ]
  },
  {
   "cell_type": "code",
   "execution_count": null,
   "metadata": {},
   "outputs": [],
   "source": [
    " x = np.linspace(-10, 10, num=1000)"
   ]
  },
  {
   "cell_type": "code",
   "execution_count": null,
   "metadata": {},
   "outputs": [],
   "source": []
  },
  {
   "cell_type": "code",
   "execution_count": null,
   "metadata": {},
   "outputs": [],
   "source": []
  }
 ],
 "metadata": {
  "kernelspec": {
   "display_name": "Python 2",
   "language": "python",
   "name": "python2"
  },
  "language_info": {
   "codemirror_mode": {
    "name": "ipython",
    "version": 2
   },
   "file_extension": ".py",
   "mimetype": "text/x-python",
   "name": "python",
   "nbconvert_exporter": "python",
   "pygments_lexer": "ipython2",
   "version": "2.7.12"
  }
 },
 "nbformat": 4,
 "nbformat_minor": 2
}
